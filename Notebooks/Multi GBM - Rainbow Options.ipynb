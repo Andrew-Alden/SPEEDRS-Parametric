{
 "cells": [
  {
   "cell_type": "markdown",
   "id": "1f396d1f",
   "metadata": {
    "pycharm": {
     "name": "#%% md\n"
    }
   },
   "source": [
    "# Pricing Rainbow Options in the Multi-Dimensional Black-Scholes Model\n"
   ]
  },
  {
   "cell_type": "markdown",
   "id": "089b32c9",
   "metadata": {},
   "source": [
    "## Change working directory to navigate out of folder. "
   ]
  },
  {
   "cell_type": "code",
   "execution_count": 1,
   "id": "1c51a71e",
   "metadata": {},
   "outputs": [],
   "source": [
    "import os\n",
    "os.getcwd()\n",
    "path_parent = os.path.dirname(os.getcwd())\n",
    "os.chdir(path_parent)"
   ]
  },
  {
   "cell_type": "markdown",
   "id": "e434a24f",
   "metadata": {
    "pycharm": {
     "name": "#%% md\n"
    }
   },
   "source": [
    "## Load Packages"
   ]
  },
  {
   "cell_type": "code",
   "execution_count": 2,
   "id": "fab25a56",
   "metadata": {
    "pycharm": {
     "name": "#%%\n"
    }
   },
   "outputs": [],
   "source": [
    "import numpy as np\n",
    "import matplotlib.pyplot as plt\n",
    "from tqdm.auto import tqdm\n",
    "import pickle\n",
    "import pandas as pd\n",
    "from IPython.display import display, HTML\n",
    "from torch import nn\n",
    "import torch.cuda\n",
    "from collections import defaultdict\n",
    "from sklearn.metrics import mean_squared_error\n",
    "\n",
    "from GenerateMMDDataset.mmd_dataset_base import save_path_params, load_path_params\n",
    "\n",
    "from StochasticModels.geometric_brownian_motion import BlackScholesExactSimulationSobolNDim, ConstantCorrelationCov\n",
    "\n",
    "from RegressionModel.pricing_model import PricingModel\n",
    "from RegressionModel.mmd_model import SecondOrderMMDApprox\n",
    "\n",
    "from utils.plotting_functions import construct_scatter_plot\n",
    "\n",
    "from MMD.mmd import RBFKernel, SigKernel"
   ]
  },
  {
   "cell_type": "markdown",
   "id": "aaab82f1",
   "metadata": {
    "pycharm": {
     "name": "#%% md\n"
    }
   },
   "source": [
    "## Set PyTorch Device"
   ]
  },
  {
   "cell_type": "code",
   "execution_count": 4,
   "id": "20530999",
   "metadata": {
    "pycharm": {
     "name": "#%%\n"
    }
   },
   "outputs": [
    {
     "name": "stdout",
     "output_type": "stream",
     "text": [
      "Device: cuda\n"
     ]
    }
   ],
   "source": [
    "device = torch.device(\"cuda\" if torch.cuda.is_available() else \"cpu\")\n",
    "print(f'Device: {device}')\n",
    "torch.backends.cudnn.benchmark = True"
   ]
  },
  {
   "cell_type": "markdown",
   "id": "4839a67b",
   "metadata": {
    "pycharm": {
     "name": "#%% md\n"
    }
   },
   "source": [
    "## Best-Call Rainbow Option Payoff"
   ]
  },
  {
   "cell_type": "code",
   "execution_count": 4,
   "id": "ef423d1e",
   "metadata": {
    "pycharm": {
     "name": "#%%\n"
    }
   },
   "outputs": [],
   "source": [
    "def BestCallRainbowPayoff(S, K, basketK):\n",
    "    \n",
    "    '''\n",
    "    Compute the payoff of a rainbow option. \n",
    "    :param S: Asset Price at maturity. Array of dimension [Number of Simulations, Number of Assets].\n",
    "    :param K: Asset-Strikes. Array of dimension [Number of Assets].\n",
    "    :param basketK: The basket strike. \n",
    "    :return: Payoff at maturity. Array of dimension [Number of Simulations].\n",
    "    '''\n",
    "    \n",
    "    return np.maximum(0, np.amax(np.divide(S[-1][:, :-1], K), 1)-basketK)\n",
    "    \n",
    "    \n",
    "def PriceRainbowNDim(S0, K, basketK, r, sigmas, cov, T, num_sim, num_time_steps, \n",
    "                     scramble=True, decomp_needed=True, time_to_maturity=None):\n",
    "    \n",
    "    \"\"\"\n",
    "    Price rainbow options using Monte Carlo. \n",
    "    :param S0: Spot price. Array of dimension [Number of Assets].\n",
    "    :param K: Asset-Strikes. Array of dimension [Number of Assets].\n",
    "    :param basketK: The basket strike. \n",
    "    :param r: Risk-free interest rate. \n",
    "    :param sigmas: Individual volatilities. Array of dimension [Number of Assets].\n",
    "    :param cov: Covariance matrix or Cholesky decomposition of covariance matrix.\n",
    "                Array of dimension [Number of Assets, Number of Assets].\n",
    "    :param T: Maturity. \n",
    "    :param num_sim: Number of simulations. \n",
    "    :param num_time_steps: Number of time-steps per simulation. \n",
    "    :param scramble: Indicates whether to scramble to Sobol sequences. Default is True. \n",
    "    :param decomp_needed: Indicates whether Cholesky decomposition is needed. Default is True. \n",
    "    :param time_to_maturity: (T-t) where t is the current time. \n",
    "    :return: Price of the rainbow option at time t. \n",
    "    \"\"\"\n",
    "    \n",
    "    S1 = BlackScholesExactSimulationSobolNDim(S0, r, sigmas, cov, T, num_sim, num_time_steps, decomp_needed)\n",
    "    payoff = BestCallRainbowPayoff(S1, K, basketK)\n",
    "    return np.exp(-r*T)*np.average(payoff) if time_to_maturity is None else np.exp(-r*time_to_maturity)*np.average(payoff)"
   ]
  },
  {
   "cell_type": "markdown",
   "id": "94f6694d",
   "metadata": {
    "pycharm": {
     "name": "#%% md\n"
    }
   },
   "source": [
    "### Load Pre-trained MMD model. "
   ]
  },
  {
   "cell_type": "code",
   "execution_count": 5,
   "id": "27c17a74",
   "metadata": {
    "pycharm": {
     "name": "#%%\n"
    }
   },
   "outputs": [],
   "source": [
    "multi_gbm_mmd_input_dimension = 8\n",
    "\n",
    "multi_gbm_mmd_model_param_dict = {\n",
    "    'input_dimension' : multi_gbm_mmd_input_dimension,\n",
    "    'intermediate_dimensions' : [30, 30, 30, 30],\n",
    "    'activation_functions' : [nn.ReLU(), nn.ReLU(), nn.ReLU(), nn.ReLU()], \n",
    "    'add_layer_norm' : [False, False, False, False], \n",
    "    'output_dimension' : 1,\n",
    "    'output_activation_fn' : None\n",
    "}\n",
    "\n",
    "multi_gbm_second_order_mmd_model = SecondOrderMMDApprox(multi_gbm_mmd_model_param_dict, \n",
    "                                                        None,\n",
    "                                                        None, None, device,\n",
    "                                                        'Multi GBM/MMD Model/multi_gbm_mmd_scaler_1.pkl')\n",
    "\n",
    "multi_gbm_second_order_mmd_model.load_best_model('Multi GBM/MMD Model/multi_gbm_mmd_model_best_1.pth.tar', \n",
    "                                                 'Multi GBM/MMD Model/multi_gbm_mmd_scaler_1.pkl')"
   ]
  },
  {
   "cell_type": "markdown",
   "id": "9f002d8a",
   "metadata": {},
   "source": [
    "## Generate dataset"
   ]
  },
  {
   "cell_type": "code",
   "execution_count": 18,
   "id": "cd5b9f4e",
   "metadata": {},
   "outputs": [
    {
     "data": {
      "application/vnd.jupyter.widget-view+json": {
       "model_id": "212576087b6248ceada941db6df698e2",
       "version_major": 2,
       "version_minor": 0
      },
      "text/plain": [
       "  0%|          | 0/50000 [00:00<?, ?it/s]"
      ]
     },
     "metadata": {},
     "output_type": "display_data"
    }
   ],
   "source": [
    "corr_range = (0.05, 0.95)\n",
    "M = 50000\n",
    "N = 20\n",
    "_round = 5\n",
    "\n",
    "\n",
    "S0_range = (50, 80)\n",
    "strike_range = (30, 110)\n",
    "r_range = (0.01, 0.1)\n",
    "r_round = 5\n",
    "\n",
    "multi_gbm_num_sim = 20000\n",
    "multi_gbm_num_time_steps = 1\n",
    "\n",
    "T_list = np.random.randint(1, 5, M)\n",
    "\n",
    "dim = 3\n",
    "\n",
    "multi_gbm_sigma_list = [np.random.uniform(0.2, 0.8, dim) for _ in range(M)]\n",
    "multi_gbm_correlations = np.random.uniform(corr_range[0], corr_range[1], M)\n",
    "\n",
    "S0_multi_gbm = [np.random.randint(S0_range[0], S0_range[1], dim) for _ in range(M)]\n",
    "r_multi_gbm = np.round(np.random.uniform(r_range[0], r_range[1], M), r_round)\n",
    "basket_strike_multi_gbm = np.round(np.random.uniform(0.25, 1, M), _round)\n",
    "strikes_multi_gbm = [np.random.randint(strike_range[0], strike_range[1], dim) for _ in range(M)]\n",
    "\n",
    "\n",
    "multi_gbm_rainbow_best_call_pricing_features_diff_T_diff_K = []\n",
    "multi_gbm_rainbow_best_call_pricing_labels_diff_T_diff_K = []\n",
    "\n",
    "multi_gbm_second_order_mmd_model.model.eval()\n",
    "with torch.no_grad():\n",
    "    for i in tqdm(range(M)):\n",
    "        correlation = multi_gbm_correlations[i]\n",
    "        sigmas = multi_gbm_sigma_list[i]\n",
    "        cov = ConstantCorrelationCov(sigmas, correlation)\n",
    "        r = r_multi_gbm[i]\n",
    "        S0 = S0_multi_gbm[i]\n",
    "        basket_strike = basket_strike_multi_gbm[i]\n",
    "        strikes = strikes_multi_gbm[i]\n",
    "        T = T_list[i]\n",
    "        \n",
    "        \n",
    "        new_features = []\n",
    "        for j in range(N):\n",
    "            mmd_input = [sigmas[int(k/2)] if k%2 == 0 else multi_gbm_sigma_list[j][int(k/2)] for k in range(2*dim)]\n",
    "            mmd_input += [correlation, multi_gbm_correlations[j]]\n",
    "            new_features.append(multi_gbm_second_order_mmd_model.transform(torch.tensor(mmd_input).unsqueeze(0).float()).squeeze(0).squeeze(0))\n",
    "        \n",
    "        for i in range(dim):\n",
    "            new_features.append(S0[i])\n",
    "            new_features.append(strikes[i])\n",
    "        \n",
    "        new_features.append(basket_strike)\n",
    "        new_features.append(r)\n",
    "        new_features.append(T)\n",
    "\n",
    "        multi_gbm_rainbow_best_call_pricing_features_diff_T_diff_K.append(new_features)\n",
    "        \n",
    "        \n",
    "        multi_gbm_rainbow_best_call_pricing_labels_diff_T_diff_K.append(PriceRainbowNDim(S0, strikes, basket_strike, r, sigmas, cov,\n",
    "                                                                                 T, multi_gbm_num_sim, base_steps))"
   ]
  },
  {
   "cell_type": "markdown",
   "id": "50a69ef8",
   "metadata": {},
   "source": [
    "### Save the Dataset"
   ]
  },
  {
   "cell_type": "code",
   "execution_count": 52,
   "id": "c0042657",
   "metadata": {},
   "outputs": [],
   "source": [
    "length = len(multi_gbm_rainbow_best_call_pricing_features_diff_T_diff_K)\n",
    "l = int(length/5)\n",
    "sub_features = []\n",
    "for i in range(5):\n",
    "    sub_features.append(multi_gbm_rainbow_best_call_pricing_features_diff_T_diff_K[i*l:(i+1)*l])\n",
    "    \n",
    "features_file_name_base = \"Multi GBM/Data/multi_gbm_rainbow_best_call_features_diff_T_diff_K\"\n",
    "\n",
    "for i in range(5):\n",
    "    with open(f'{features_file_name_base}_part_{i+1}', \"wb\") as fp:\n",
    "        pickle.dump(sub_features[i], fp)\n",
    "    \n",
    "with open(\"Multi GBM/Data/multi_gbm_rainbow_best_call_labels_diff_T_diff_K\", \"wb\") as fp:\n",
    "    pickle.dump(multi_gbm_rainbow_best_call_pricing_labels_diff_T_diff_K, fp)\n",
    "    \n",
    "\n",
    "multi_gbm_rainbow_best_call_pricer_dict_diff_K = {\n",
    "    'M' : M,\n",
    "    'N' : N,\n",
    "    'S0 Range' : S0_range, \n",
    "    'S0' : S0_multi_gbm,\n",
    "    'Strike Range' : strike_range,\n",
    "    'Strikes' : strikes_multi_gbm,\n",
    "    'Basket Strike Range' : (0.25, 1),\n",
    "    'Basket Strike' : basket_strike_multi_gbm,\n",
    "    'r Range' : r_range,\n",
    "    'r' : r_multi_gbm,\n",
    "    'r round' : r_round, \n",
    "    'T' : T_list,\n",
    "    'Dim' : dim, \n",
    "    'Sigma List' : multi_gbm_sigma_list,\n",
    "    'Correlation List' : multi_gbm_correlations,\n",
    "    'Sigma Range' : (0.2, 0.8),\n",
    "    'Correlation Range' : corr_range,\n",
    "    'Num Sim' : multi_gbm_num_sim,\n",
    "    'Num Time Steps' : 1,\n",
    "    '_round' : _round\n",
    "}\n",
    "    \n",
    "save_path_params(multi_gbm_rainbow_best_call_pricer_dict_diff_K, \"Multi GBM/Data/multi_gbm_rainbow_best_call_dict_diff_K\")"
   ]
  },
  {
   "cell_type": "markdown",
   "id": "29b8b1db",
   "metadata": {},
   "source": [
    "### Load Dataset"
   ]
  },
  {
   "cell_type": "code",
   "execution_count": 3,
   "id": "f0aee947",
   "metadata": {
    "pycharm": {
     "name": "#%%\n"
    }
   },
   "outputs": [],
   "source": [
    "features_file_name_base = \"Multi GBM/Data/multi_gbm_rainbow_best_call_features_diff_T_diff_K\"\n",
    "multi_gbm_rainbow_best_call_pricing_features_diff_T_diff_K = []\n",
    "\n",
    "for i in range(5):\n",
    "    with open(f'{features_file_name_base}_part_{i+1}', 'rb') as f:\n",
    "            multi_gbm_rainbow_best_call_pricing_features_diff_T_diff_K += pickle.load(f)\n",
    "        \n",
    "with open(\"Multi GBM/Data/multi_gbm_rainbow_best_call_labels_diff_T_diff_K\", 'rb') as f:\n",
    "        multi_gbm_rainbow_best_call_pricing_labels_diff_T_diff_K = pickle.load(f)\n",
    "        "
   ]
  },
  {
   "cell_type": "code",
   "execution_count": 7,
   "id": "3e0257b2",
   "metadata": {},
   "outputs": [],
   "source": [
    "multi_gbm_rainbow_best_call_pricer_dict_diff_K = load_path_params(\"Multi GBM/Data/multi_gbm_rainbow_best_call_dict_diff_K\")"
   ]
  },
  {
   "cell_type": "markdown",
   "id": "15dafbdf",
   "metadata": {},
   "source": [
    "### Train the Model"
   ]
  },
  {
   "cell_type": "code",
   "execution_count": null,
   "id": "291ff7b1",
   "metadata": {},
   "outputs": [],
   "source": [
    "multi_gbm_rainbow_best_call_diff_k_training_param_dict = {\n",
    "    'lr' : 0.005,\n",
    "    'Epochs' : 200,\n",
    "    'l2_weight' : 0.0001,\n",
    "    'l1_weight' : 0.0,\n",
    "    'Train/Val Split' : 0.8,\n",
    "    'exp_sigma' : 2\n",
    "}\n",
    "\n",
    "multi_gbm_rainbow_best_call_dataset_diff_k_loader_params = {\n",
    "    'batch_size' : 256,\n",
    "    'shuffle' : True,\n",
    "    'num_workers' : 0\n",
    "}\n",
    "\n",
    "N = multi_gbm_rainbow_best_call_pricer_dict_diff_K['N']\n",
    "dim = multi_gbm_rainbow_best_call_pricer_dict_diff_K['Dim']\n",
    "\n",
    "\n",
    "multi_gbm_rainbow_best_call_diff_K_input_dimension = N+((dim+1)*2)+1\n",
    "\n",
    "multi_gbm_rainbow_best_call_model_param_diff_K_dict = {\n",
    "    'input_dimension' : multi_gbm_rainbow_best_call_diff_K_input_dimension,\n",
    "    'intermediate_dimensions' : [75, 75, 75, 75],\n",
    "    'activation_functions' : [nn.ReLU(), nn.ReLU(), nn.ReLU(), nn.ReLU(), nn.ReLU()], # List of length equal to the number of hidden units\n",
    "    'add_layer_norm' : [False, False, False, False, False], # List of length equal to 1 - Num. Hidden Units\n",
    "    'output_dimension' : 1,\n",
    "    'output_activation_fn' : None,\n",
    "    'use_input_layer_norm' : False,\n",
    "    'use_output_layer_norm' : False,\n",
    "    'use_residual' : False\n",
    "}\n",
    "\n",
    "\n",
    "for k in [1, 5, 10, 15, 20]:\n",
    "    \n",
    "    \n",
    "    N = k\n",
    "\n",
    "\n",
    "    multi_gbm_rainbow_best_call_diff_K_input_dimension = N+((dim+1)*2)+1\n",
    "\n",
    "    multi_gbm_rainbow_best_call_model_param_diff_K_dict = {\n",
    "        'input_dimension' : multi_gbm_rainbow_best_call_diff_K_input_dimension,\n",
    "        'intermediate_dimensions' : [75, 75, 75, 75],\n",
    "        'activation_functions' : [nn.ReLU(), nn.ReLU(), nn.ReLU(), nn.ReLU(), nn.ReLU()], \n",
    "        'add_layer_norm' : [False, False, False, False, False],\n",
    "        'output_dimension' : 1,\n",
    "        'output_activation_fn' : None,\n",
    "        'use_input_layer_norm' : False,\n",
    "        'use_output_layer_norm' : False,\n",
    "        'use_residual' : False\n",
    "    }\n",
    "\n",
    "    \n",
    "    for i in range(5):\n",
    "\n",
    "\n",
    "        multi_gbm_rainbow_best_call_diff_k_pricing_model = PricingModel(multi_gbm_rainbow_best_call_model_param_diff_K_dict, \n",
    "                                                    multi_gbm_rainbow_best_call_diff_k_training_param_dict, \n",
    "                                                    multi_gbm_rainbow_best_call_dataset_diff_k_loader_params, nn.MSELoss(), device,\n",
    "                                                    f'Multi GBM/Pricer Model/multi_gbm_rainbow_best_call_scaler_diff_T_{k}_dist_diff_k_{i+1}.pkl', \n",
    "                                                    multi_gbm_rainbow_best_call_diff_K_input_dimension, \n",
    "                                                    scheduler_gamma=0.75, use_scheduler=True, \n",
    "                                                    milestones=[50, 70, 90, 100, 110, 120, 130, 135, 140, 145, 150, 155,\n",
    "                                                                160, 165, 170, 175, 180, 185, 190, 195])\n",
    "        \n",
    "               \n",
    "        multi_gbm_rainbow_best_call_diff_k_pricing_model.fit(torch.tensor(multi_gbm_rainbow_best_call_pricing_features_diff_T_diff_K)[:, 20-k:].float(), \n",
    "                                     torch.tensor(multi_gbm_rainbow_best_call_pricing_labels_diff_T_diff_K).float(), \n",
    "                                     **{'filename' : f'Multi GBM/Pricer Model/multi_gbm_rainbow_best_call_pricer_checkpoint_diff_T_{k}_dist_diff_k_{i+1}.pth.tar', \n",
    "                                        'best_model_filename' : f'Multi GBM/Pricer Model/multi_gbm_rainbow_best_call_pricer_model_best_diff_T_{k}_dist_diff_k_{i+1}.pth.tar'})"
   ]
  },
  {
   "cell_type": "code",
   "execution_count": 6,
   "id": "846db01f",
   "metadata": {},
   "outputs": [
    {
     "name": "stdout",
     "output_type": "stream",
     "text": [
      "********************  1 ********************\n",
      "0.015492928214371204\n",
      "2.203965498188936e-05\n",
      "********************  5 ********************\n",
      "0.001008849125355482\n",
      "4.784782951119418e-06\n",
      "********************  10 ********************\n",
      "0.00039056139648891987\n",
      "9.440544544426252e-06\n",
      "********************  15 ********************\n",
      "0.00036063557490706444\n",
      "1.0321888808808262e-05\n",
      "********************  20 ********************\n",
      "0.0003412000194657594\n",
      "1.0095592948364033e-05\n"
     ]
    }
   ],
   "source": [
    "train_losses_dict = defaultdict(list)\n",
    "\n",
    "for k in [1, 5, 10, 15, 20]:\n",
    "    \n",
    "    for i in range(5):\n",
    "        checkpoint = torch.load(f'Multi GBM/Pricer Model/multi_gbm_rainbow_best_call_pricer_model_best_diff_T_{k}_dist_diff_k_{i+1}.pth.tar', map_location='cpu')\n",
    "        train_losses_dict[k].append(checkpoint['train_loss'])\n",
    "        \n",
    "    print(f'{\"*\"*20}  {k} {\"*\"*20}')\n",
    "    print(np.mean(train_losses_dict[k]))\n",
    "    print(np.std(train_losses_dict[k]))"
   ]
  },
  {
   "cell_type": "code",
   "execution_count": 8,
   "id": "aec31299",
   "metadata": {},
   "outputs": [
    {
     "name": "stdout",
     "output_type": "stream",
     "text": [
      "********************  1 ********************\n",
      "0.01590883806347847\n",
      "0.00014601912179985113\n",
      "********************  5 ********************\n",
      "0.0011433492647483945\n",
      "2.949741372624608e-05\n",
      "********************  10 ********************\n",
      "0.00045101019204594193\n",
      "1.865647701577847e-05\n",
      "********************  15 ********************\n",
      "0.0004227383004035801\n",
      "1.218539447153032e-05\n",
      "********************  20 ********************\n",
      "0.00039252088754437864\n",
      "1.631588563558339e-05\n"
     ]
    }
   ],
   "source": [
    "valid_losses_dict = defaultdict(list)\n",
    "\n",
    "for k in [1, 5, 10, 15, 20]:\n",
    "    \n",
    "    for i in range(5):\n",
    "            checkpoint = torch.load(f'Multi GBM/Pricer Model/multi_gbm_rainbow_best_call_pricer_model_best_diff_T_{k}_dist_diff_k_{i+1}.pth.tar', map_location='cpu')\n",
    "            valid_losses_dict[k].append(checkpoint['valid_loss'])\n",
    "            \n",
    "    print(f'{\"*\"*20}  {k} {\"*\"*20}')\n",
    "    print(np.mean(valid_losses_dict[k]))\n",
    "    print(np.std(valid_losses_dict[k]))"
   ]
  },
  {
   "cell_type": "markdown",
   "id": "8f33d6b7",
   "metadata": {},
   "source": [
    "### Train Baseline"
   ]
  },
  {
   "cell_type": "code",
   "execution_count": null,
   "id": "db38e3ff",
   "metadata": {},
   "outputs": [],
   "source": [
    "multi_gbm_rainbow_best_call_diff_k_training_param_dict_no_dist = {\n",
    "    'lr' : 0.005,\n",
    "    'Epochs' : 200,\n",
    "    'l2_weight' : 0.0001,\n",
    "    'l1_weight' : 0.0,\n",
    "    'Train/Val Split' : 0.8,\n",
    "    'exp_sigma' : 2\n",
    "}\n",
    "\n",
    "multi_gbm_rainbow_best_call_dataset_diff_k_loader_params_no_dist = {\n",
    "    'batch_size' : 256,\n",
    "    'shuffle' : True,\n",
    "    'num_workers' : 0\n",
    "}\n",
    "\n",
    "\n",
    "multi_gbm_rainbow_best_call_diff_K_input_dimension_no_dist = 13\n",
    "\n",
    "\n",
    "multi_gbm_rainbow_best_call_model_param_diff_K_dict_no_dist = {\n",
    "    'input_dimension' : multi_gbm_rainbow_best_call_diff_K_input_dimension_no_dist,\n",
    "    'intermediate_dimensions' : [30, 30, 30, 30],\n",
    "    'activation_functions' : [nn.ReLU(), nn.ReLU(), nn.ReLU(), nn.ReLU(), nn.ReLU()], # List of length equal to the number of hidden units\n",
    "    'add_layer_norm' : [False, False, False, False, False], # List of length equal to 1 - Num. Hidden Units\n",
    "    'output_dimension' : 1,\n",
    "    'output_activation_fn' : None,\n",
    "    'use_input_layer_norm' : False,\n",
    "    'use_output_layer_norm' : False,\n",
    "    'use_residual' : False\n",
    "}\n",
    "\n",
    "\n",
    "multi_gbm_sigma_list = multi_gbm_rainbow_best_call_pricer_dict_diff_K['Sigma List']\n",
    "multi_gbm_correlations = multi_gbm_rainbow_best_call_pricer_dict_diff_K['Correlation List']\n",
    "new_features = []\n",
    "for i in range(len(multi_gbm_rainbow_best_call_pricing_features_diff_T_diff_K)):\n",
    "    new_features.append(multi_gbm_sigma_list[i].tolist() + [multi_gbm_correlations[i]] + multi_gbm_rainbow_best_call_pricing_features_diff_T_diff_K[i][20:])\n",
    "\n",
    "for i in range(5):\n",
    "    \n",
    "    multi_gbm_rainbow_best_call_diff_k_pricing_model_no_dist = PricingModel(multi_gbm_rainbow_best_call_model_param_diff_K_dict_no_dist, \n",
    "                                            multi_gbm_rainbow_best_call_diff_k_training_param_dict_no_dist, \n",
    "                                            multi_gbm_rainbow_best_call_dataset_diff_k_loader_params_no_dist, nn.MSELoss(), device,\n",
    "                                            f'Multi GBM/Pricer Model/multi_gbm_rainbow_best_call_scaler_diff_T_diff_k_no_dist_{i+1}.pkl', \n",
    "                                            multi_gbm_rainbow_best_call_diff_K_input_dimension_no_dist, \n",
    "                                            scheduler_gamma=0.9, use_scheduler=True, \n",
    "                                            milestones=[50, 70, 90, 100, 110, 120, 130, 135, 140, 145, 150, 155,\n",
    "                                                        160, 165, 170, 175, 180, 185, 190, 195])\n",
    "    \n",
    "    multi_gbm_rainbow_best_call_diff_k_pricing_model_no_dist.fit(torch.tensor(new_features).float(), \n",
    "                                 torch.tensor(multi_gbm_rainbow_best_call_pricing_labels_diff_T_diff_K).float(), \n",
    "                                 **{'filename' : f'Multi GBM/Pricer Model/multi_gbm_rainbow_best_call_pricer_checkpoint_diff_T_diff_k_no_dist_{i+1}.pth.tar', \n",
    "                                    'best_model_filename' : f'Multi GBM/Pricer Model/multi_gbm_rainbow_best_call_pricer_model_best_diff_T_diff_k_no_dist_{i+1}.pth.tar'})"
   ]
  },
  {
   "cell_type": "code",
   "execution_count": 10,
   "id": "7f494c3e",
   "metadata": {},
   "outputs": [
    {
     "name": "stdout",
     "output_type": "stream",
     "text": [
      "Training Loss\n",
      "0.0005246127024292946\n",
      "2.239640437802413e-05\n",
      "Validation Loss\n",
      "0.000539826333988458\n",
      "2.7503894995010365e-05\n"
     ]
    }
   ],
   "source": [
    "train_losses = []\n",
    "valid_losses = []\n",
    "    \n",
    "for i in range(5):\n",
    "    checkpoint = torch.load(f'Multi GBM/Pricer Model/multi_gbm_rainbow_best_call_pricer_model_best_diff_T_diff_k_no_dist_{i+1}.pth.tar', map_location='cpu')\n",
    "    train_losses.append(checkpoint['train_loss'])\n",
    "    valid_losses.append(checkpoint['valid_loss'])\n",
    "\n",
    "print(f'Training Loss')\n",
    "print(np.mean(train_losses))\n",
    "print(np.std(train_losses))\n",
    "print(f'Validation Loss')\n",
    "print(np.mean(valid_losses))\n",
    "print(np.std(valid_losses))"
   ]
  },
  {
   "cell_type": "markdown",
   "id": "25bfe960",
   "metadata": {
    "pycharm": {
     "name": "#%% md\n"
    }
   },
   "source": [
    "## Test the Model"
   ]
  },
  {
   "cell_type": "code",
   "execution_count": 28,
   "id": "3e079b38",
   "metadata": {},
   "outputs": [
    {
     "data": {
      "application/vnd.jupyter.widget-view+json": {
       "model_id": "75eaa351ccea4c95832794f7f1b821b2",
       "version_major": 2,
       "version_minor": 0
      },
      "text/plain": [
       "  0%|          | 0/2000 [00:00<?, ?it/s]"
      ]
     },
     "metadata": {},
     "output_type": "display_data"
    }
   ],
   "source": [
    "corr_range = (0.05, 0.95)\n",
    "M = 2000\n",
    "N = 20\n",
    "_round = 5\n",
    "\n",
    "\n",
    "S0_range = (50, 80)\n",
    "strike_range = (30, 110)\n",
    "r_range = (0.01, 0.1)\n",
    "r_round = 5\n",
    "\n",
    "multi_gbm_num_sim = 20000\n",
    "multi_gbm_num_time_steps = 1\n",
    "\n",
    "T_list = np.random.randint(1, 5, M)\n",
    "\n",
    "dim = 3\n",
    "\n",
    "multi_gbm_sigma_list = [np.random.uniform(0.2, 0.8, dim) for _ in range(M)]\n",
    "multi_gbm_correlations = np.random.uniform(corr_range[0], corr_range[1], M)\n",
    "\n",
    "S0_multi_gbm = [np.random.randint(S0_range[0], S0_range[1], dim) for _ in range(M)]\n",
    "r_multi_gbm = np.round(np.random.uniform(r_range[0], r_range[1], M), r_round)\n",
    "basket_strike_multi_gbm = np.round(np.random.uniform(0.25, 1, M), _round)\n",
    "strikes_multi_gbm = [np.random.randint(strike_range[0], strike_range[1], dim) for _ in range(M)]\n",
    "\n",
    "\n",
    "multi_gbm_rainbow_best_call_pricing_features_diff_T_diff_K = []\n",
    "multi_gbm_rainbow_best_call_pricing_labels_diff_T_diff_K = []\n",
    "\n",
    "multi_gbm_second_order_mmd_model.model.eval()\n",
    "with torch.no_grad():\n",
    "    for i in tqdm(range(M)):\n",
    "        correlation = multi_gbm_correlations[i]\n",
    "        sigmas = multi_gbm_sigma_list[i]\n",
    "        cov = ConstantCorrelationCov(sigmas, correlation)\n",
    "        r = r_multi_gbm[i]\n",
    "        S0 = S0_multi_gbm[i]\n",
    "        basket_strike = basket_strike_multi_gbm[i]\n",
    "        strikes = strikes_multi_gbm[i]\n",
    "        T = T_list[i]\n",
    "        \n",
    "        \n",
    "        new_features = []\n",
    "        for j in range(N):\n",
    "            mmd_input = [sigmas[int(k/2)] if k%2 == 0 else multi_gbm_rainbow_best_call_pricer_dict_diff_K['Sigma List'][j][int(k/2)] for k in range(2*dim)]\n",
    "            mmd_input += [correlation, multi_gbm_rainbow_best_call_pricer_dict_diff_K['Correlation List'][j]]\n",
    "            new_features.append(multi_gbm_second_order_mmd_model.transform(torch.tensor(mmd_input).unsqueeze(0).float()).squeeze(0).squeeze(0))\n",
    "        \n",
    "        for i in range(dim):\n",
    "            new_features.append(S0[i])\n",
    "            new_features.append(strikes[i])\n",
    "        \n",
    "        new_features.append(basket_strike)\n",
    "        new_features.append(r)\n",
    "        new_features.append(T)\n",
    "\n",
    "        multi_gbm_rainbow_best_call_pricing_features_diff_T_diff_K.append(new_features)\n",
    "        \n",
    "        \n",
    "        multi_gbm_rainbow_best_call_pricing_labels_diff_T_diff_K.append(PriceRainbowNDim(S0, strikes, basket_strike, r, sigmas, cov,\n",
    "                                                                                 T, multi_gbm_num_sim, multi_gbm_num_time_steps))"
   ]
  },
  {
   "cell_type": "markdown",
   "id": "32884d0f",
   "metadata": {},
   "source": [
    "### SPEEDRS"
   ]
  },
  {
   "cell_type": "code",
   "execution_count": 38,
   "id": "5ba4c245",
   "metadata": {},
   "outputs": [
    {
     "name": "stdout",
     "output_type": "stream",
     "text": [
      "********************  1 ********************\n",
      "0.016170803817228678\n",
      "7.958183109977958e-05\n",
      "********************  5 ********************\n",
      "0.0011885897332725678\n",
      "1.1059721903351242e-05\n",
      "********************  10 ********************\n",
      "0.0004618853785023974\n",
      "2.1451274116351584e-05\n",
      "********************  15 ********************\n",
      "0.0004257701356974575\n",
      "8.266745754820224e-06\n",
      "********************  20 ********************\n",
      "0.00040185967181543034\n",
      "1.794337827461039e-05\n"
     ]
    }
   ],
   "source": [
    "test_losses_dict = defaultdict(list)\n",
    "\n",
    "\n",
    "\n",
    "for k in [1, 5, 10, 15, 20]:\n",
    "    \n",
    "    input_dimension = k+((dim+1)*2)+1\n",
    "\n",
    "    architecture = {\n",
    "        'input_dimension' : input_dimension,\n",
    "        'intermediate_dimensions' : [75, 75, 75, 75],\n",
    "        'activation_functions' : [nn.ReLU(), nn.ReLU(), nn.ReLU(), nn.ReLU(), nn.ReLU()],\n",
    "        'add_layer_norm' : [False, False, False, False, False], \n",
    "        'output_dimension' : 1,\n",
    "        'output_activation_fn' : None,\n",
    "        'use_input_layer_norm' : False,\n",
    "        'use_output_layer_norm' : False,\n",
    "        'use_residual' : False\n",
    "    }\n",
    "\n",
    "    \n",
    "     speedrs_pricing_model = PricingModel(architecture,\n",
    "                                          None,\n",
    "                                          None,\n",
    "                                          None,\n",
    "                                          device,\n",
    "                                          None,\n",
    "                                          input_dimension)\n",
    "    \n",
    "        \n",
    "    for i in range(5):\n",
    "\n",
    "        speedrs_pricing_model.load_best_model(f'Multi GBM/Pricer Model/multi_gbm_rainbow_best_call_pricer_model_best_diff_T_{k}_dist_diff_k_{i+1}.pth.tar', \n",
    "                                              f'Multi GBM/Pricer Model/multi_gbm_rainbow_best_call_scaler_diff_T_{k}_dist_diff_k_{i+1}.pkl')\n",
    "        \n",
    "        features = torch.tensor(multi_gbm_rainbow_best_call_pricing_features_diff_T_diff_K).float()[:, 20-k:]\n",
    "        speedrs_pricing_model.model.eval()\n",
    "        with torch.no_grad():\n",
    "            test_losses_dict[k].append(mean_squared_error(speedrs_pricing_model.transform(features).cpu(), multi_gbm_rainbow_best_call_pricing_labels_diff_T_diff_K))\n",
    "        \n",
    "    print(f'{\"*\"*20}  {k} {\"*\"*20}')\n",
    "    print(np.mean(test_losses_dict[k]))\n",
    "    print(np.std(test_losses_dict[k]))"
   ]
  },
  {
   "cell_type": "markdown",
   "id": "d7c56099",
   "metadata": {},
   "source": [
    "### Baseline"
   ]
  },
  {
   "cell_type": "code",
   "execution_count": 41,
   "id": "d3a4f4fc",
   "metadata": {},
   "outputs": [
    {
     "name": "stdout",
     "output_type": "stream",
     "text": [
      "0.0005506120232259059\n",
      "2.30577270484882e-05\n"
     ]
    }
   ],
   "source": [
    "input_dimension = 13\n",
    "\n",
    "\n",
    "architecture = {\n",
    "    'input_dimension' : input_dimension,\n",
    "    'intermediate_dimensions' : [30, 30, 30, 30],\n",
    "    'activation_functions' : [nn.ReLU(), nn.ReLU(), nn.ReLU(), nn.ReLU(), nn.ReLU()],\n",
    "    'add_layer_norm' : [False, False, False, False, False],\n",
    "    'output_dimension' : 1,\n",
    "    'output_activation_fn' : None,\n",
    "    'use_input_layer_norm' : False,\n",
    "    'use_output_layer_norm' : False,\n",
    "    'use_residual' : False\n",
    "}\n",
    "\n",
    "\n",
    "features = []\n",
    "for i in range(len(multi_gbm_rainbow_best_call_pricing_features_diff_T_diff_K)):\n",
    "    features.append(multi_gbm_sigma_list[i].tolist() + [multi_gbm_correlations[i]] + multi_gbm_rainbow_best_call_pricing_features_diff_T_diff_K[i][20:])\n",
    "    \n",
    "\n",
    "features = np.asarray(features)\n",
    "test_losses = []\n",
    "\n",
    "for i in range(5):\n",
    "    \n",
    "    basline_pricing_model = PricingModel(architecture\n",
    "                                         None,\n",
    "                                         None,\n",
    "                                         None,\n",
    "                                         device, \n",
    "                                         None,\n",
    "                                         input_dimension)\n",
    "\n",
    "\n",
    "    basline_pricing_model.load_best_model(f'Multi GBM/Pricer Model/multi_gbm_rainbow_best_call_pricer_model_best_diff_T_diff_k_no_dist_{i+1}.pth.tar', \n",
    "                                          f'Multi GBM/Pricer Model/multi_gbm_rainbow_best_call_scaler_diff_T_diff_k_no_dist_{i+1}.pkl')\n",
    "\n",
    "    \n",
    "    basline_pricing_model.model.eval()\n",
    "    with torch.no_grad():\n",
    "        test_losses.append(mean_squared_error(basline_pricing_model.transform(torch.tensor(features).float()).cpu(), multi_gbm_rainbow_best_call_pricing_labels_diff_T_diff_K))\n",
    "        \n",
    "print(np.mean(test_losses))\n",
    "print(np.std(test_losses))"
   ]
  },
  {
   "cell_type": "markdown",
   "id": "f262ff4e",
   "metadata": {},
   "source": [
    "### SPEEDRS - Out of Sample Tests"
   ]
  },
  {
   "cell_type": "code",
   "execution_count": 6,
   "id": "354d198b",
   "metadata": {},
   "outputs": [],
   "source": [
    "dim = 3\n",
    "N = 20\n",
    "input_dimension = 20+((dim+1)*2)+1\n",
    "\n",
    "architecture = {\n",
    "    'input_dimension' : input_dimension,\n",
    "    'intermediate_dimensions' : [75, 75, 75, 75],\n",
    "    'activation_functions' : [nn.ReLU(), nn.ReLU(), nn.ReLU(), nn.ReLU(), nn.ReLU()],\n",
    "    'add_layer_norm' : [False, False, False, False, False], \n",
    "    'output_dimension' : 1,\n",
    "    'output_activation_fn' : None,\n",
    "    'use_input_layer_norm' : False,\n",
    "    'use_output_layer_norm' : False,\n",
    "    'use_residual' : False\n",
    "}\n",
    "\n",
    "\n",
    "speedrs_pricing_model = PricingModel(architecture,\n",
    "                                     None,\n",
    "                                     None,\n",
    "                                     None,\n",
    "                                     device,\n",
    "                                     None,\n",
    "                                     input_dimension)\n",
    "    \n",
    "speedrs_pricing_model.load_best_model(f'Multi GBM/Pricer Model/multi_gbm_rainbow_best_call_pricer_model_best_diff_T_20_dist_diff_k_5.pth.tar', \n",
    "                                      f'Multi GBM/Pricer Model/multi_gbm_rainbow_best_call_scaler_diff_T_20_dist_diff_k_5.pkl')\n",
    "\n",
    "\n",
    "multi_gbm_rainbow_best_call_pricer_dict_diff_K = load_path_params(\"Multi GBM/Data/multi_gbm_rainbow_best_call_dict_diff_K\")\n",
    "\n",
    "test_data_dict = {}"
   ]
  },
  {
   "cell_type": "markdown",
   "id": "501f1533",
   "metadata": {
    "pycharm": {
     "name": "#%% md\n"
    }
   },
   "source": [
    "Vary $K_{B}$ and keep all other parameters fixed. "
   ]
  },
  {
   "cell_type": "code",
   "execution_count": 7,
   "id": "1f1d7be6",
   "metadata": {
    "pycharm": {
     "name": "#%%\n"
    }
   },
   "outputs": [
    {
     "data": {
      "application/vnd.jupyter.widget-view+json": {
       "model_id": "ba0770ba98ab458c9d940e3b7b50e051",
       "version_major": 2,
       "version_minor": 0
      },
      "text/plain": [
       "  0%|          | 0/20 [00:00<?, ?it/s]"
      ]
     },
     "metadata": {},
     "output_type": "display_data"
    },
    {
     "data": {
      "text/html": [
       "<table border=\"1\" class=\"dataframe\">\n",
       "  <thead>\n",
       "    <tr style=\"text-align: right;\">\n",
       "      <th></th>\n",
       "      <th>$K_{B}$</th>\n",
       "      <th>Price NN</th>\n",
       "      <th>MC Price</th>\n",
       "    </tr>\n",
       "  </thead>\n",
       "  <tbody>\n",
       "    <tr>\n",
       "      <th>0</th>\n",
       "      <td>0.25</td>\n",
       "      <td>2.184454</td>\n",
       "      <td>2.204274</td>\n",
       "    </tr>\n",
       "    <tr>\n",
       "      <th>1</th>\n",
       "      <td>0.29</td>\n",
       "      <td>2.153597</td>\n",
       "      <td>2.166509</td>\n",
       "    </tr>\n",
       "    <tr>\n",
       "      <th>2</th>\n",
       "      <td>0.33</td>\n",
       "      <td>2.122011</td>\n",
       "      <td>2.129096</td>\n",
       "    </tr>\n",
       "    <tr>\n",
       "      <th>3</th>\n",
       "      <td>0.37</td>\n",
       "      <td>2.090383</td>\n",
       "      <td>2.092147</td>\n",
       "    </tr>\n",
       "    <tr>\n",
       "      <th>4</th>\n",
       "      <td>0.41</td>\n",
       "      <td>2.058754</td>\n",
       "      <td>2.055760</td>\n",
       "    </tr>\n",
       "    <tr>\n",
       "      <th>5</th>\n",
       "      <td>0.45</td>\n",
       "      <td>2.026519</td>\n",
       "      <td>2.020026</td>\n",
       "    </tr>\n",
       "    <tr>\n",
       "      <th>6</th>\n",
       "      <td>0.49</td>\n",
       "      <td>1.993809</td>\n",
       "      <td>1.985029</td>\n",
       "    </tr>\n",
       "    <tr>\n",
       "      <th>7</th>\n",
       "      <td>0.53</td>\n",
       "      <td>1.961099</td>\n",
       "      <td>1.950818</td>\n",
       "    </tr>\n",
       "    <tr>\n",
       "      <th>8</th>\n",
       "      <td>0.57</td>\n",
       "      <td>1.930929</td>\n",
       "      <td>1.917433</td>\n",
       "    </tr>\n",
       "    <tr>\n",
       "      <th>9</th>\n",
       "      <td>0.61</td>\n",
       "      <td>1.899491</td>\n",
       "      <td>1.884910</td>\n",
       "    </tr>\n",
       "    <tr>\n",
       "      <th>10</th>\n",
       "      <td>0.64</td>\n",
       "      <td>1.875902</td>\n",
       "      <td>1.861085</td>\n",
       "    </tr>\n",
       "    <tr>\n",
       "      <th>11</th>\n",
       "      <td>0.68</td>\n",
       "      <td>1.843534</td>\n",
       "      <td>1.830094</td>\n",
       "    </tr>\n",
       "    <tr>\n",
       "      <th>12</th>\n",
       "      <td>0.72</td>\n",
       "      <td>1.810619</td>\n",
       "      <td>1.799971</td>\n",
       "    </tr>\n",
       "    <tr>\n",
       "      <th>13</th>\n",
       "      <td>0.76</td>\n",
       "      <td>1.776917</td>\n",
       "      <td>1.770733</td>\n",
       "    </tr>\n",
       "    <tr>\n",
       "      <th>14</th>\n",
       "      <td>0.80</td>\n",
       "      <td>1.743215</td>\n",
       "      <td>1.742342</td>\n",
       "    </tr>\n",
       "    <tr>\n",
       "      <th>15</th>\n",
       "      <td>0.84</td>\n",
       "      <td>1.714588</td>\n",
       "      <td>1.714779</td>\n",
       "    </tr>\n",
       "    <tr>\n",
       "      <th>16</th>\n",
       "      <td>0.88</td>\n",
       "      <td>1.686403</td>\n",
       "      <td>1.688038</td>\n",
       "    </tr>\n",
       "    <tr>\n",
       "      <th>17</th>\n",
       "      <td>0.92</td>\n",
       "      <td>1.657583</td>\n",
       "      <td>1.662092</td>\n",
       "    </tr>\n",
       "    <tr>\n",
       "      <th>18</th>\n",
       "      <td>0.96</td>\n",
       "      <td>1.628334</td>\n",
       "      <td>1.636905</td>\n",
       "    </tr>\n",
       "    <tr>\n",
       "      <th>19</th>\n",
       "      <td>1.00</td>\n",
       "      <td>1.602153</td>\n",
       "      <td>1.612443</td>\n",
       "    </tr>\n",
       "  </tbody>\n",
       "</table>"
      ],
      "text/plain": [
       "<IPython.core.display.HTML object>"
      ]
     },
     "metadata": {},
     "output_type": "display_data"
    },
    {
     "name": "stdout",
     "output_type": "stream",
     "text": [
      "MSE NN: 9.98221160043373e-05\n"
     ]
    }
   ],
   "source": [
    "sigmas = np.round(np.random.uniform(0.2, 0.8, dim), 2)\n",
    "correlation = 0.4\n",
    "cov1 = ConstantCorrelationCov(sigmas, correlation)\n",
    "\n",
    "T = 3\n",
    "r = 0.015\n",
    "\n",
    "multi_gbm_num_sim = 50000\n",
    "multi_gbm_num_time_steps = 1\n",
    "\n",
    "\n",
    "s0 = [65, 59, 75]\n",
    "strikes = [34, 54, 90]\n",
    "basket_strikes = np.round(np.linspace(0.25, 1, 20), 2)\n",
    "\n",
    "approximate_prices = []\n",
    "\n",
    "multi_gbm_rainbow_best_call_monte_carlo_prices_basket = []\n",
    "\n",
    "\n",
    "for basket_strike in tqdm(basket_strikes):\n",
    "                    \n",
    "    multi_gbm_rainbow_best_call_monte_carlo_prices_basket.append(PriceRainbowNDim(s0, strikes, basket_strike, r, sigmas, cov1,\n",
    "                                                                                 T, multi_gbm_num_sim, \n",
    "                                                                                 multi_gbm_num_time_steps))\n",
    "    \n",
    "    multi_gbm_second_order_mmd_model.model.eval()\n",
    "    speedrs_pricing_model.model.eval()\n",
    "    with torch.no_grad():\n",
    "        test_inputs = []\n",
    "        for j in range(N):\n",
    "            mmd_input = [sigmas[int(k/2)] if k%2 == 0 else multi_gbm_rainbow_best_call_pricer_dict_diff_K['Sigma List'][j][int(k/2)] for k in range(2*dim)]\n",
    "            mmd_input += [correlation, multi_gbm_rainbow_best_call_pricer_dict_diff_K['Correlation List'][j]]\n",
    "            test_inputs.append(multi_gbm_second_order_mmd_model.transform(torch.tensor(mmd_input).unsqueeze(0).float()).squeeze(0).squeeze(0))\n",
    "    \n",
    "        for i in range(dim):\n",
    "            test_inputs.append(s0[i])\n",
    "            test_inputs.append(strikes[i])\n",
    "\n",
    "        test_inputs.append(basket_strike)\n",
    "        test_inputs.append(r)\n",
    "        test_inputs.append(T)\n",
    "        \n",
    "        approximate_price = speedrs_pricing_model.transform(torch.tensor(test_inputs).unsqueeze(0).float())\n",
    "        approximate_prices.append(approximate_price.cpu().item())\n",
    "        \n",
    "\n",
    "results_df = pd.DataFrame({r'$K_{B}$' : basket_strikes, 'Price NN' : approximate_prices, 'MC Price' : multi_gbm_rainbow_best_call_monte_carlo_prices_basket})\n",
    "display(HTML(results_df.to_html()))\n",
    "    \n",
    "    \n",
    "mse_nn = mean_squared_error(torch.tensor(approximate_prices).to(device='cpu'), \n",
    "                            torch.tensor(multi_gbm_rainbow_best_call_monte_carlo_prices_basket).to(device='cpu'))\n",
    "print(f'MSE NN: {mse_nn}')\n",
    "\n",
    "\n",
    "test_data_dict['K_B'] = [basket_strikes, approximate_prices, multi_gbm_rainbow_best_call_monte_carlo_prices_basket]"
   ]
  },
  {
   "cell_type": "markdown",
   "id": "3c213df9",
   "metadata": {
    "pycharm": {
     "name": "#%% md\n"
    }
   },
   "source": [
    "Vary T whilst keeping the other parameters fixed. "
   ]
  },
  {
   "cell_type": "code",
   "execution_count": 8,
   "id": "a218e740",
   "metadata": {
    "pycharm": {
     "name": "#%%\n"
    }
   },
   "outputs": [
    {
     "data": {
      "application/vnd.jupyter.widget-view+json": {
       "model_id": "1add7cfef5f548a9968963e6ecd2710e",
       "version_major": 2,
       "version_minor": 0
      },
      "text/plain": [
       "  0%|          | 0/5 [00:00<?, ?it/s]"
      ]
     },
     "metadata": {},
     "output_type": "display_data"
    },
    {
     "data": {
      "text/html": [
       "<table border=\"1\" class=\"dataframe\">\n",
       "  <thead>\n",
       "    <tr style=\"text-align: right;\">\n",
       "      <th></th>\n",
       "      <th>T</th>\n",
       "      <th>Price NN</th>\n",
       "      <th>MC Price</th>\n",
       "    </tr>\n",
       "  </thead>\n",
       "  <tbody>\n",
       "    <tr>\n",
       "      <th>0</th>\n",
       "      <td>1</td>\n",
       "      <td>0.308014</td>\n",
       "      <td>0.280134</td>\n",
       "    </tr>\n",
       "    <tr>\n",
       "      <th>1</th>\n",
       "      <td>2</td>\n",
       "      <td>0.379243</td>\n",
       "      <td>0.365158</td>\n",
       "    </tr>\n",
       "    <tr>\n",
       "      <th>2</th>\n",
       "      <td>3</td>\n",
       "      <td>0.436269</td>\n",
       "      <td>0.433283</td>\n",
       "    </tr>\n",
       "    <tr>\n",
       "      <th>3</th>\n",
       "      <td>4</td>\n",
       "      <td>0.479828</td>\n",
       "      <td>0.491744</td>\n",
       "    </tr>\n",
       "    <tr>\n",
       "      <th>4</th>\n",
       "      <td>5</td>\n",
       "      <td>0.555046</td>\n",
       "      <td>0.543575</td>\n",
       "    </tr>\n",
       "  </tbody>\n",
       "</table>"
      ],
      "text/plain": [
       "<IPython.core.display.HTML object>"
      ]
     },
     "metadata": {},
     "output_type": "display_data"
    },
    {
     "name": "stdout",
     "output_type": "stream",
     "text": [
      "MSE NN: 0.0002516402707271561\n"
     ]
    }
   ],
   "source": [
    "sigmas = [0.26, 0.58, 0.29]\n",
    "correlation = 0.56\n",
    "cov1 = ConstantCorrelationCov(sigmas, correlation)\n",
    "\n",
    "T_list = [1, 2, 3, 4, 5]\n",
    "r = 0.015\n",
    "\n",
    "multi_gbm_num_sim = 20000\n",
    "multi_gbm_num_time_steps = 1\n",
    "\n",
    "s0 = [67, 66, 56]\n",
    "strikes = [98, 98, 98]\n",
    "basket_strike = 0.56\n",
    "\n",
    "approximate_prices = []\n",
    "\n",
    "multi_gbm_rainbow_best_call_monte_carlo_prices_T = []\n",
    "\n",
    "\n",
    "for T in tqdm(T_list):\n",
    "                    \n",
    "    multi_gbm_rainbow_best_call_monte_carlo_prices_T.append(PriceRainbowNDim(s0, strikes, basket_strike, r, sigmas, cov1,\n",
    "                                                                                 T, multi_gbm_num_sim, \n",
    "                                                                                 multi_gbm_num_time_steps))\n",
    "    \n",
    "    multi_gbm_second_order_mmd_model.model.eval()\n",
    "    speedrs_pricing_model.model.eval()\n",
    "    with torch.no_grad():\n",
    "        test_inputs = []\n",
    "        for j in range(N):\n",
    "            mmd_input = [sigmas[int(k/2)] if k%2 == 0 else multi_gbm_rainbow_best_call_pricer_dict_diff_K['Sigma List'][j][int(k/2)] for k in range(2*dim)]\n",
    "            mmd_input += [correlation, multi_gbm_rainbow_best_call_pricer_dict_diff_K['Correlation List'][j]]\n",
    "            test_inputs.append(multi_gbm_second_order_mmd_model.transform(torch.tensor(mmd_input).unsqueeze(0).float()).squeeze(0).squeeze(0))\n",
    "    \n",
    "        for i in range(dim):\n",
    "            test_inputs.append(s0[i])\n",
    "            test_inputs.append(strikes[i])\n",
    "\n",
    "        test_inputs.append(basket_strike)\n",
    "        test_inputs.append(r)\n",
    "        test_inputs.append(T)\n",
    "        \n",
    "        approximate_price = speedrs_pricing_model.transform(torch.tensor(test_inputs).unsqueeze(0).float())\n",
    "        approximate_prices.append(approximate_price.cpu().item())\n",
    "        \n",
    "\n",
    "results_df = pd.DataFrame({r'T' : T_list, 'Price NN' : approximate_prices, 'MC Price' : multi_gbm_rainbow_best_call_monte_carlo_prices_T})\n",
    "display(HTML(results_df.to_html()))\n",
    "    \n",
    "    \n",
    "mse_nn = mean_squared_error(torch.tensor(approximate_prices).to(device='cpu'), \n",
    "                            torch.tensor(multi_gbm_rainbow_best_call_monte_carlo_prices_T).to(device='cpu'))\n",
    "print(f'MSE NN: {mse_nn}')\n",
    "\n",
    "test_data_dict['T'] = [T_list, approximate_prices, multi_gbm_rainbow_best_call_monte_carlo_prices_T]"
   ]
  },
  {
   "cell_type": "markdown",
   "id": "be3ad706",
   "metadata": {
    "pycharm": {
     "name": "#%% md\n"
    }
   },
   "source": [
    "Vary the correlation whilst keeping the other parameters fixed. "
   ]
  },
  {
   "cell_type": "code",
   "execution_count": 9,
   "id": "7d850460",
   "metadata": {
    "pycharm": {
     "name": "#%%\n"
    }
   },
   "outputs": [
    {
     "data": {
      "application/vnd.jupyter.widget-view+json": {
       "model_id": "d1a11a6b43bb411b9730074d11de9c11",
       "version_major": 2,
       "version_minor": 0
      },
      "text/plain": [
       "  0%|          | 0/30 [00:00<?, ?it/s]"
      ]
     },
     "metadata": {},
     "output_type": "display_data"
    },
    {
     "data": {
      "text/html": [
       "<table border=\"1\" class=\"dataframe\">\n",
       "  <thead>\n",
       "    <tr style=\"text-align: right;\">\n",
       "      <th></th>\n",
       "      <th>Correlation</th>\n",
       "      <th>Price NN</th>\n",
       "      <th>MC Price</th>\n",
       "    </tr>\n",
       "  </thead>\n",
       "  <tbody>\n",
       "    <tr>\n",
       "      <th>0</th>\n",
       "      <td>0.05</td>\n",
       "      <td>0.939637</td>\n",
       "      <td>0.933684</td>\n",
       "    </tr>\n",
       "    <tr>\n",
       "      <th>1</th>\n",
       "      <td>0.08</td>\n",
       "      <td>0.933747</td>\n",
       "      <td>0.927311</td>\n",
       "    </tr>\n",
       "    <tr>\n",
       "      <th>2</th>\n",
       "      <td>0.11</td>\n",
       "      <td>0.926809</td>\n",
       "      <td>0.920853</td>\n",
       "    </tr>\n",
       "    <tr>\n",
       "      <th>3</th>\n",
       "      <td>0.14</td>\n",
       "      <td>0.919552</td>\n",
       "      <td>0.914307</td>\n",
       "    </tr>\n",
       "    <tr>\n",
       "      <th>4</th>\n",
       "      <td>0.17</td>\n",
       "      <td>0.912878</td>\n",
       "      <td>0.907703</td>\n",
       "    </tr>\n",
       "    <tr>\n",
       "      <th>5</th>\n",
       "      <td>0.21</td>\n",
       "      <td>0.904061</td>\n",
       "      <td>0.898760</td>\n",
       "    </tr>\n",
       "    <tr>\n",
       "      <th>6</th>\n",
       "      <td>0.24</td>\n",
       "      <td>0.897922</td>\n",
       "      <td>0.891917</td>\n",
       "    </tr>\n",
       "    <tr>\n",
       "      <th>7</th>\n",
       "      <td>0.27</td>\n",
       "      <td>0.891956</td>\n",
       "      <td>0.884972</td>\n",
       "    </tr>\n",
       "    <tr>\n",
       "      <th>8</th>\n",
       "      <td>0.30</td>\n",
       "      <td>0.886893</td>\n",
       "      <td>0.877919</td>\n",
       "    </tr>\n",
       "    <tr>\n",
       "      <th>9</th>\n",
       "      <td>0.33</td>\n",
       "      <td>0.882548</td>\n",
       "      <td>0.870725</td>\n",
       "    </tr>\n",
       "    <tr>\n",
       "      <th>10</th>\n",
       "      <td>0.36</td>\n",
       "      <td>0.878394</td>\n",
       "      <td>0.863374</td>\n",
       "    </tr>\n",
       "    <tr>\n",
       "      <th>11</th>\n",
       "      <td>0.39</td>\n",
       "      <td>0.873445</td>\n",
       "      <td>0.855868</td>\n",
       "    </tr>\n",
       "    <tr>\n",
       "      <th>12</th>\n",
       "      <td>0.42</td>\n",
       "      <td>0.867364</td>\n",
       "      <td>0.848240</td>\n",
       "    </tr>\n",
       "    <tr>\n",
       "      <th>13</th>\n",
       "      <td>0.45</td>\n",
       "      <td>0.859520</td>\n",
       "      <td>0.840482</td>\n",
       "    </tr>\n",
       "    <tr>\n",
       "      <th>14</th>\n",
       "      <td>0.48</td>\n",
       "      <td>0.846818</td>\n",
       "      <td>0.832563</td>\n",
       "    </tr>\n",
       "    <tr>\n",
       "      <th>15</th>\n",
       "      <td>0.52</td>\n",
       "      <td>0.831243</td>\n",
       "      <td>0.821729</td>\n",
       "    </tr>\n",
       "    <tr>\n",
       "      <th>16</th>\n",
       "      <td>0.55</td>\n",
       "      <td>0.817986</td>\n",
       "      <td>0.813360</td>\n",
       "    </tr>\n",
       "    <tr>\n",
       "      <th>17</th>\n",
       "      <td>0.58</td>\n",
       "      <td>0.801016</td>\n",
       "      <td>0.804769</td>\n",
       "    </tr>\n",
       "    <tr>\n",
       "      <th>18</th>\n",
       "      <td>0.61</td>\n",
       "      <td>0.788931</td>\n",
       "      <td>0.795995</td>\n",
       "    </tr>\n",
       "    <tr>\n",
       "      <th>19</th>\n",
       "      <td>0.64</td>\n",
       "      <td>0.781017</td>\n",
       "      <td>0.786970</td>\n",
       "    </tr>\n",
       "    <tr>\n",
       "      <th>20</th>\n",
       "      <td>0.67</td>\n",
       "      <td>0.773129</td>\n",
       "      <td>0.777701</td>\n",
       "    </tr>\n",
       "    <tr>\n",
       "      <th>21</th>\n",
       "      <td>0.70</td>\n",
       "      <td>0.764641</td>\n",
       "      <td>0.768094</td>\n",
       "    </tr>\n",
       "    <tr>\n",
       "      <th>22</th>\n",
       "      <td>0.73</td>\n",
       "      <td>0.753216</td>\n",
       "      <td>0.758160</td>\n",
       "    </tr>\n",
       "    <tr>\n",
       "      <th>23</th>\n",
       "      <td>0.76</td>\n",
       "      <td>0.740735</td>\n",
       "      <td>0.747893</td>\n",
       "    </tr>\n",
       "    <tr>\n",
       "      <th>24</th>\n",
       "      <td>0.79</td>\n",
       "      <td>0.727097</td>\n",
       "      <td>0.737235</td>\n",
       "    </tr>\n",
       "    <tr>\n",
       "      <th>25</th>\n",
       "      <td>0.83</td>\n",
       "      <td>0.709034</td>\n",
       "      <td>0.722318</td>\n",
       "    </tr>\n",
       "    <tr>\n",
       "      <th>26</th>\n",
       "      <td>0.86</td>\n",
       "      <td>0.696349</td>\n",
       "      <td>0.710627</td>\n",
       "    </tr>\n",
       "    <tr>\n",
       "      <th>27</th>\n",
       "      <td>0.89</td>\n",
       "      <td>0.682767</td>\n",
       "      <td>0.698456</td>\n",
       "    </tr>\n",
       "    <tr>\n",
       "      <th>28</th>\n",
       "      <td>0.92</td>\n",
       "      <td>0.671869</td>\n",
       "      <td>0.685896</td>\n",
       "    </tr>\n",
       "    <tr>\n",
       "      <th>29</th>\n",
       "      <td>0.95</td>\n",
       "      <td>0.660762</td>\n",
       "      <td>0.673612</td>\n",
       "    </tr>\n",
       "  </tbody>\n",
       "</table>"
      ],
      "text/plain": [
       "<IPython.core.display.HTML object>"
      ]
     },
     "metadata": {},
     "output_type": "display_data"
    },
    {
     "name": "stdout",
     "output_type": "stream",
     "text": [
      "MSE NN: 0.00011255888151819756\n"
     ]
    }
   ],
   "source": [
    "sigmas = np.round(np.random.uniform(0.2, 0.8, dim), 2)\n",
    "correlation_list = np.round(np.linspace(0.05, 0.95, 30), 2)\n",
    "\n",
    "T = 1\n",
    "r = 0.05\n",
    "\n",
    "multi_gbm_num_sim = 20000\n",
    "multi_gbm_num_time_steps = 1\n",
    "\n",
    "\n",
    "s0 = [55, 65, 75]\n",
    "strikes = [75, 65, 55]\n",
    "basket_strike = 0.85\n",
    "\n",
    "approximate_prices = []\n",
    "\n",
    "multi_gbm_rainbow_best_call_monte_carlo_prices_corr = []\n",
    "\n",
    "\n",
    "for correlation in tqdm(correlation_list):\n",
    "    \n",
    "    cov1 = ConstantCorrelationCov(sigmas, correlation)\n",
    "                    \n",
    "    # MC Call Price\n",
    "    multi_gbm_rainbow_best_call_monte_carlo_prices_corr.append(PriceRainbowNDim(s0, strikes, basket_strike, r, sigmas, \n",
    "                                                                                cov1, T, multi_gbm_num_sim, \n",
    "                                                                                multi_gbm_num_time_steps))\n",
    "    \n",
    "    multi_gbm_second_order_mmd_model.model.eval()\n",
    "    speedrs_pricing_model.model.eval()\n",
    "    with torch.no_grad():\n",
    "        test_inputs = []\n",
    "        for j in range(N):\n",
    "            mmd_input = [sigmas[int(k/2)] if k%2 == 0 else \n",
    "                         multi_gbm_rainbow_best_call_pricer_dict_diff_K['Sigma List'][j][int(k/2)] for k in range(2*dim)]\n",
    "            mmd_input += [correlation, multi_gbm_rainbow_best_call_pricer_dict_diff_K['Correlation List'][j]]\n",
    "            test_inputs.append(multi_gbm_second_order_mmd_model.transform(\n",
    "                torch.tensor(mmd_input).unsqueeze(0).float()).squeeze(0).squeeze(0))\n",
    "    \n",
    "        for i in range(dim):\n",
    "            test_inputs.append(s0[i])\n",
    "            test_inputs.append(strikes[i])\n",
    "\n",
    "        test_inputs.append(basket_strike)\n",
    "        test_inputs.append(r)\n",
    "        test_inputs.append(T)\n",
    "        \n",
    "        approximate_price = speedrs_pricing_model.transform(\n",
    "            torch.tensor(test_inputs).unsqueeze(0).float())\n",
    "        approximate_prices.append(approximate_price[0][0].cpu().item())\n",
    "        \n",
    "\n",
    "results_df = pd.DataFrame({r'Correlation' : correlation_list, 'Price NN' : approximate_prices,\n",
    "                           'MC Price' : multi_gbm_rainbow_best_call_monte_carlo_prices_corr})\n",
    "display(HTML(results_df.to_html()))\n",
    "    \n",
    "    \n",
    "mse_nn = mean_squared_error(torch.tensor(approximate_prices).to(device='cpu'),\n",
    "                            torch.tensor(multi_gbm_rainbow_best_call_monte_carlo_prices_corr).to(device='cpu'))\n",
    "print(f'MSE NN: {mse_nn}')\n",
    "\n",
    "test_data_dict['Correlation'] = [correlation_list, approximate_prices, multi_gbm_rainbow_best_call_monte_carlo_prices_corr]"
   ]
  },
  {
   "cell_type": "markdown",
   "id": "045b063d",
   "metadata": {
    "pycharm": {
     "name": "#%% md\n"
    }
   },
   "source": [
    "Vary $\\sigma_{1}$ whilst keeping the other parameters fixed. "
   ]
  },
  {
   "cell_type": "code",
   "execution_count": 10,
   "id": "134a7222",
   "metadata": {
    "pycharm": {
     "name": "#%%\n"
    }
   },
   "outputs": [
    {
     "data": {
      "application/vnd.jupyter.widget-view+json": {
       "model_id": "4220f156617f4ea7b394cf59db02ff12",
       "version_major": 2,
       "version_minor": 0
      },
      "text/plain": [
       "  0%|          | 0/20 [00:00<?, ?it/s]"
      ]
     },
     "metadata": {},
     "output_type": "display_data"
    },
    {
     "data": {
      "text/html": [
       "<table border=\"1\" class=\"dataframe\">\n",
       "  <thead>\n",
       "    <tr style=\"text-align: right;\">\n",
       "      <th></th>\n",
       "      <th>$\\sigma_{1}$</th>\n",
       "      <th>Price NN</th>\n",
       "      <th>MC Price</th>\n",
       "    </tr>\n",
       "  </thead>\n",
       "  <tbody>\n",
       "    <tr>\n",
       "      <th>0</th>\n",
       "      <td>0.20</td>\n",
       "      <td>1.148493</td>\n",
       "      <td>1.127167</td>\n",
       "    </tr>\n",
       "    <tr>\n",
       "      <th>1</th>\n",
       "      <td>0.23</td>\n",
       "      <td>1.145514</td>\n",
       "      <td>1.117945</td>\n",
       "    </tr>\n",
       "    <tr>\n",
       "      <th>2</th>\n",
       "      <td>0.26</td>\n",
       "      <td>1.140299</td>\n",
       "      <td>1.112880</td>\n",
       "    </tr>\n",
       "    <tr>\n",
       "      <th>3</th>\n",
       "      <td>0.29</td>\n",
       "      <td>1.137365</td>\n",
       "      <td>1.112325</td>\n",
       "    </tr>\n",
       "    <tr>\n",
       "      <th>4</th>\n",
       "      <td>0.33</td>\n",
       "      <td>1.139193</td>\n",
       "      <td>1.118328</td>\n",
       "    </tr>\n",
       "    <tr>\n",
       "      <th>5</th>\n",
       "      <td>0.36</td>\n",
       "      <td>1.143941</td>\n",
       "      <td>1.127392</td>\n",
       "    </tr>\n",
       "    <tr>\n",
       "      <th>6</th>\n",
       "      <td>0.39</td>\n",
       "      <td>1.157903</td>\n",
       "      <td>1.139800</td>\n",
       "    </tr>\n",
       "    <tr>\n",
       "      <th>7</th>\n",
       "      <td>0.42</td>\n",
       "      <td>1.170668</td>\n",
       "      <td>1.155143</td>\n",
       "    </tr>\n",
       "    <tr>\n",
       "      <th>8</th>\n",
       "      <td>0.45</td>\n",
       "      <td>1.186618</td>\n",
       "      <td>1.172656</td>\n",
       "    </tr>\n",
       "    <tr>\n",
       "      <th>9</th>\n",
       "      <td>0.48</td>\n",
       "      <td>1.201975</td>\n",
       "      <td>1.191971</td>\n",
       "    </tr>\n",
       "    <tr>\n",
       "      <th>10</th>\n",
       "      <td>0.52</td>\n",
       "      <td>1.221487</td>\n",
       "      <td>1.219985</td>\n",
       "    </tr>\n",
       "    <tr>\n",
       "      <th>11</th>\n",
       "      <td>0.55</td>\n",
       "      <td>1.237074</td>\n",
       "      <td>1.242129</td>\n",
       "    </tr>\n",
       "    <tr>\n",
       "      <th>12</th>\n",
       "      <td>0.58</td>\n",
       "      <td>1.256232</td>\n",
       "      <td>1.265053</td>\n",
       "    </tr>\n",
       "    <tr>\n",
       "      <th>13</th>\n",
       "      <td>0.61</td>\n",
       "      <td>1.277532</td>\n",
       "      <td>1.288532</td>\n",
       "    </tr>\n",
       "    <tr>\n",
       "      <th>14</th>\n",
       "      <td>0.64</td>\n",
       "      <td>1.299914</td>\n",
       "      <td>1.312438</td>\n",
       "    </tr>\n",
       "    <tr>\n",
       "      <th>15</th>\n",
       "      <td>0.67</td>\n",
       "      <td>1.327042</td>\n",
       "      <td>1.336600</td>\n",
       "    </tr>\n",
       "    <tr>\n",
       "      <th>16</th>\n",
       "      <td>0.71</td>\n",
       "      <td>1.360752</td>\n",
       "      <td>1.368961</td>\n",
       "    </tr>\n",
       "    <tr>\n",
       "      <th>17</th>\n",
       "      <td>0.74</td>\n",
       "      <td>1.383716</td>\n",
       "      <td>1.393224</td>\n",
       "    </tr>\n",
       "    <tr>\n",
       "      <th>18</th>\n",
       "      <td>0.77</td>\n",
       "      <td>1.407273</td>\n",
       "      <td>1.417429</td>\n",
       "    </tr>\n",
       "    <tr>\n",
       "      <th>19</th>\n",
       "      <td>0.80</td>\n",
       "      <td>1.429220</td>\n",
       "      <td>1.441517</td>\n",
       "    </tr>\n",
       "  </tbody>\n",
       "</table>"
      ],
      "text/plain": [
       "<IPython.core.display.HTML object>"
      ]
     },
     "metadata": {},
     "output_type": "display_data"
    },
    {
     "name": "stdout",
     "output_type": "stream",
     "text": [
      "MSE NN: 0.0002526873117983037\n"
     ]
    }
   ],
   "source": [
    "sigma_1_list = np.round(np.linspace(0.2, 0.8, 20), 2)\n",
    "sigma_2 = 0.45\n",
    "sigma_3 = 0.36\n",
    "correlation = 0.8\n",
    "\n",
    "T = 3\n",
    "r = 0.05\n",
    "\n",
    "multi_gbm_num_sim = 20000\n",
    "multi_gbm_num_time_steps = 1\n",
    "\n",
    "\n",
    "s0 = [68, 68, 79]\n",
    "strikes = [45, 98, 56]\n",
    "basket_strike = 0.67\n",
    "\n",
    "approximate_prices = []\n",
    "\n",
    "multi_gbm_rainbow_best_call_monte_carlo_prices_sigma_1 = []\n",
    "\n",
    "\n",
    "for sigma_1 in tqdm(sigma_1_list):\n",
    "    \n",
    "    sigmas = [sigma_1, sigma_2, sigma_3]\n",
    "    \n",
    "    cov1 = ConstantCorrelationCov(sigmas, correlation)\n",
    "                    \n",
    "    multi_gbm_rainbow_best_call_monte_carlo_prices_sigma_1.append(PriceRainbowNDim(s0, strikes, basket_strike, r, sigmas, \n",
    "                                                                                cov1, T, multi_gbm_num_sim, \n",
    "                                                                                multi_gbm_num_time_steps))\n",
    "    \n",
    "    multi_gbm_second_order_mmd_model.model.eval()\n",
    "    speedrs_pricing_model.model.eval()\n",
    "    with torch.no_grad():\n",
    "        test_inputs = []\n",
    "        for j in range(N):\n",
    "            mmd_input = [sigmas[int(k/2)] if k%2 == 0 else \n",
    "                         multi_gbm_rainbow_best_call_pricer_dict_diff_K['Sigma List'][j][int(k/2)] for k in range(2*dim)]\n",
    "            mmd_input += [correlation, multi_gbm_rainbow_best_call_pricer_dict_diff_K['Correlation List'][j]]\n",
    "            test_inputs.append(multi_gbm_second_order_mmd_model.transform(\n",
    "                torch.tensor(mmd_input).unsqueeze(0).float()).squeeze(0).squeeze(0))\n",
    "    \n",
    "        for i in range(dim):\n",
    "            test_inputs.append(s0[i])\n",
    "            test_inputs.append(strikes[i])\n",
    "\n",
    "        test_inputs.append(basket_strike)\n",
    "        test_inputs.append(r)\n",
    "        test_inputs.append(T)\n",
    "        \n",
    "        approximate_price = speedrs_pricing_model.transform(\n",
    "            torch.tensor(test_inputs).unsqueeze(0).float())\n",
    "        approximate_prices.append(approximate_price[0][0].cpu().item())\n",
    "        \n",
    "\n",
    "results_df = pd.DataFrame({r'$\\sigma_{1}$' : sigma_1_list, 'Price NN' : approximate_prices,\n",
    "                           'MC Price' : multi_gbm_rainbow_best_call_monte_carlo_prices_sigma_1})\n",
    "display(HTML(results_df.to_html()))\n",
    "    \n",
    "    \n",
    "mse_nn = mean_squared_error(torch.tensor(approximate_prices).to(device='cpu'),\n",
    "                            torch.tensor(multi_gbm_rainbow_best_call_monte_carlo_prices_sigma_1).to(device='cpu'))\n",
    "print(f'MSE NN: {mse_nn}')\n",
    "\n",
    "test_data_dict['Sigma1'] = [sigma_1_list, approximate_prices, multi_gbm_rainbow_best_call_monte_carlo_prices_sigma_1]"
   ]
  },
  {
   "cell_type": "markdown",
   "id": "9fc586c5",
   "metadata": {},
   "source": [
    "Plot results. "
   ]
  },
  {
   "cell_type": "code",
   "execution_count": 11,
   "id": "be7a5383",
   "metadata": {},
   "outputs": [
    {
     "data": {
      "image/png": "[encoded data removed]",
      "text/plain": [
       "<Figure size 720x504 with 1 Axes>"
      ]
     },
     "metadata": {
      "needs_background": "light"
     },
     "output_type": "display_data"
    },
    {
     "data": {
      "image/png": "[encoded data removed]",
      "text/plain": [
       "<Figure size 720x504 with 1 Axes>"
      ]
     },
     "metadata": {
      "needs_background": "light"
     },
     "output_type": "display_data"
    },
    {
     "data": {
      "image/png": "[encoded data removed]",
      "text/plain": [
       "<Figure size 720x504 with 1 Axes>"
      ]
     },
     "metadata": {
      "needs_background": "light"
     },
     "output_type": "display_data"
    },
    {
     "data": {
      "image/png": "[encoded data removed]",
      "text/plain": [
       "<Figure size 720x504 with 1 Axes>"
      ]
     },
     "metadata": {
      "needs_background": "light"
     },
     "output_type": "display_data"
    }
   ],
   "source": [
    "labels = ['SPEEDRS', 'MC']\n",
    "markers = ['D', 'o']\n",
    "alphas = [0.8, 0.8]\n",
    "linewidths = [3.0, 4.0]\n",
    "colors = ['red', 'royalblue']\n",
    "ylabel = 'Price'\n",
    "\n",
    "fig, ax = plt.subplots(figsize=(10, 7))\n",
    "\n",
    "construct_scatter_plot(ax, test_data_dict['K_B'][0], test_data_dict['K_B'][1], test_data_dict['K_B'][2], \n",
    "                       labels, markers, colors, alphas, linewidths, r'$K_B$', ylabel, r=5)\n",
    "\n",
    "plt.tight_layout()\n",
    "filename = 'Multi GBM/Images/rainbow_test_plots_KB.svg'\n",
    "plt.savefig(f'{filename}', bbox_inches='tight', format='svg', dpi=1200)\n",
    "plt.show()\n",
    "\n",
    "fig, ax = plt.subplots(figsize=(10, 7))\n",
    "\n",
    "construct_scatter_plot(ax, test_data_dict['T'][0], test_data_dict['T'][1], test_data_dict['T'][2], \n",
    "                       labels, markers, colors, alphas, linewidths, r'$T$', ylabel, r=5)\n",
    "\n",
    "plt.tight_layout()\n",
    "filename = 'Multi GBM/Images/rainbow_test_plots_T.svg'\n",
    "plt.savefig(f'{filename}', bbox_inches='tight', format='svg', dpi=1200)\n",
    "plt.show()\n",
    "\n",
    "\n",
    "fig, ax = plt.subplots(figsize=(10, 7))\n",
    "\n",
    "construct_scatter_plot(ax, test_data_dict['Correlation'][0], test_data_dict['Correlation'][1], test_data_dict['Correlation'][2], \n",
    "                       labels, markers, colors, alphas, linewidths, r'$\\rho$', ylabel, r=5)\n",
    "\n",
    "plt.tight_layout()\n",
    "filename = 'Multi GBM/Images/rainbow_test_plots_rho.svg'\n",
    "plt.savefig(f'{filename}', bbox_inches='tight', format='svg', dpi=1200)\n",
    "plt.show()\n",
    "\n",
    "fig, ax = plt.subplots(figsize=(10, 7))\n",
    "\n",
    "construct_scatter_plot(ax, test_data_dict['Sigma1'][0], test_data_dict['Sigma1'][1], test_data_dict['Sigma1'][2], \n",
    "                       labels, markers, colors, alphas, linewidths, r'$\\sigma_1$', ylabel, r=5)\n",
    "\n",
    "plt.tight_layout()\n",
    "filename = 'Multi GBM/Images/rainbow_test_plots_sigma1.svg'\n",
    "plt.savefig(f'{filename}', bbox_inches='tight', format='svg', dpi=1200)\n",
    "plt.show()\n"
   ]
  },
  {
   "cell_type": "code",
   "execution_count": null,
   "id": "ed84892b",
   "metadata": {},
   "outputs": [],
   "source": []
  },
  {
   "cell_type": "markdown",
   "id": "858900c9",
   "metadata": {},
   "source": [
    "## Test Run-Time"
   ]
  },
  {
   "cell_type": "code",
   "execution_count": 156,
   "id": "1c6a176b",
   "metadata": {},
   "outputs": [
    {
     "name": "stdout",
     "output_type": "stream",
     "text": [
      "325 ms ± 8.87 ms per loop (mean ± std. dev. of 7 runs, 1 loop each)\n"
     ]
    }
   ],
   "source": [
    "%%timeit\n",
    "T=5\n",
    "cov1 = ConstantCorrelationCov(sigmas, correlation)\n",
    "PriceRainbowNDim(s0, strikes, basket_strike, r, sigmas, cov1, T, 20000, 50, bestWorst, callPut)"
   ]
  },
  {
   "cell_type": "code",
   "execution_count": 157,
   "id": "752bbd6e",
   "metadata": {},
   "outputs": [
    {
     "name": "stdout",
     "output_type": "stream",
     "text": [
      "13.8 ms ± 1.15 ms per loop (mean ± std. dev. of 7 runs, 100 loops each)\n"
     ]
    }
   ],
   "source": [
    "%%timeit\n",
    "\n",
    "multi_gbm_second_order_mmd_model.model.eval()\n",
    "multi_gbm_rainbow_best_call_diff_k_pricing_model.model.eval()\n",
    "with torch.no_grad():\n",
    "    test_inputs = []\n",
    "    for j in range(N):\n",
    "        mmd_input = [sigmas[int(k/2)] if k%2 == 0 else \n",
    "                     multi_gbm_rainbow_best_call_pricer_dict_diff_K['Sigma List'][j][int(k/2)] for k in range(2*dim)]\n",
    "        mmd_input += [correlation, multi_gbm_rainbow_best_call_pricer_dict_diff_K['Correlation List'][j]]\n",
    "        test_inputs.append(multi_gbm_second_order_mmd_model.transform(\n",
    "            torch.tensor(mmd_input).unsqueeze(0).float()).squeeze(0).squeeze(0))\n",
    "\n",
    "    for i in range(dim):\n",
    "        test_inputs.append(s0[i])\n",
    "        test_inputs.append(strikes[i])\n",
    "\n",
    "    test_inputs.append(basket_strike)\n",
    "    test_inputs.append(r)\n",
    "    test_inputs.append(T)\n",
    "\n",
    "    multi_gbm_rainbow_best_call_diff_k_pricing_model.transform(torch.tensor(test_inputs).unsqueeze(0).float())"
   ]
  },
  {
   "cell_type": "code",
   "execution_count": 158,
   "id": "511e277a",
   "metadata": {},
   "outputs": [
    {
     "name": "stdout",
     "output_type": "stream",
     "text": [
      "780 µs ± 35.8 µs per loop (mean ± std. dev. of 7 runs, 1000 loops each)\n"
     ]
    }
   ],
   "source": [
    "%%timeit\n",
    "\n",
    "multi_gbm_second_order_mmd_model.model.eval()\n",
    "with torch.no_grad():\n",
    "    multi_gbm_second_order_mmd_model.transform(\n",
    "            torch.tensor([sigmas[0], sigmas[0], sigmas[1], sigmas[1], sigmas[2], sigmas[2], correlation, correlation]).unsqueeze(0).float())"
   ]
  },
  {
   "cell_type": "code",
   "execution_count": 6,
   "id": "38a6c831",
   "metadata": {},
   "outputs": [],
   "source": [
    "static_kernel_21 = RBFKernel(sigma=50)\n",
    "static_kernel_22 = RBFKernel(sigma=0.5)\n",
    "\n",
    "dyadic_order = 0\n",
    "\n",
    "lambda_ = 1e-5\n",
    "\n",
    "signature_kernel = SigKernel([static_kernel_21, static_kernel_22], dyadic_order)\n",
    "\n",
    "num_sim = 200\n",
    "num_time_steps = 24"
   ]
  },
  {
   "cell_type": "code",
   "execution_count": 7,
   "id": "5b022928",
   "metadata": {},
   "outputs": [
    {
     "name": "stdout",
     "output_type": "stream",
     "text": [
      "5.77 s ± 32.5 ms per loop (mean ± std. dev. of 7 runs, 1 loop each)\n"
     ]
    }
   ],
   "source": [
    "%%timeit\n",
    "\n",
    "cov1 = ConstantCorrelationCov(sigmas, correlation)\n",
    "cov2 = ConstantCorrelationCov(sigmas, correlation)\n",
    "\n",
    "path1 = torch.transpose(torch.from_numpy(BlackScholesExactSimulationSobolNDim([0.5, 0.5, 0.5], 0.0, sigmas, cov1, 1, num_sim, num_time_steps, True)), 0, 1).to(device=device)\n",
    "path2 = torch.transpose(torch.from_numpy(BlackScholesExactSimulationSobolNDim([0.5, 0.5, 0.5], 0.0, sigmas, cov2, 1, num_sim, num_time_steps, True)), 0, 1).to(device=device)\n",
    "\n",
    "signature_kernel.compute_mmd(path1, path2, lambda_=lambda_, estimator='ub', order=2)"
   ]
  }
 ],
 "metadata": {
  "kernelspec": {
   "display_name": "Python 3 (ipykernel)",
   "language": "python",
   "name": "python3"
  },
  "language_info": {
   "codemirror_mode": {
    "name": "ipython",
    "version": 3
   },
   "file_extension": ".py",
   "mimetype": "text/x-python",
   "name": "python",
   "nbconvert_exporter": "python",
   "pygments_lexer": "ipython3",
   "version": "3.8.3"
  }
 },
 "nbformat": 4,
 "nbformat_minor": 5
}
