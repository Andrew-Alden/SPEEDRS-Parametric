{
 "cells": [
  {
   "cell_type": "markdown",
   "id": "0673433e",
   "metadata": {
    "pycharm": {
     "name": "#%% md\n"
    }
   },
   "source": [
    "# Second-Order Maximum Mean Discrepancy of the Heston Model"
   ]
  },
  {
   "cell_type": "markdown",
   "id": "68568f30",
   "metadata": {
    "pycharm": {
     "name": "#%% md\n"
    }
   },
   "source": [
    "## Change working directory to navigate out of folder. "
   ]
  },
  {
   "cell_type": "code",
   "execution_count": 1,
   "id": "e52c6701",
   "metadata": {
    "pycharm": {
     "name": "#%%\n"
    }
   },
   "outputs": [],
   "source": [
    "import os\n",
    "os.getcwd()\n",
    "path_parent = os.path.dirname(os.getcwd())\n",
    "os.chdir(path_parent)"
   ]
  },
  {
   "cell_type": "markdown",
   "id": "966b9535",
   "metadata": {
    "pycharm": {
     "name": "#%% md\n"
    }
   },
   "source": [
    "## Import Packages"
   ]
  },
  {
   "cell_type": "code",
   "execution_count": 2,
   "id": "c2202cff",
   "metadata": {
    "pycharm": {
     "name": "#%%\n"
    }
   },
   "outputs": [],
   "source": [
    "import numpy as np\n",
    "import matplotlib.pyplot as plt\n",
    "from tqdm.auto import tqdm\n",
    "from collections import Counter\n",
    "from torch import nn\n",
    "import torch.cuda\n",
    "from sklearn.metrics import mean_squared_error\n",
    "\n",
    "from MMD.mmd import RBFKernel, SigKernel\n",
    "\n",
    "from GenerateMMDDataset.mmd_dataset_base import save_dataset, load_dataset, save_path_params, load_path_params\n",
    "from GenerateMMDDataset.heston_dataset import GenerateHestonDistanceDataset\n",
    "\n",
    "from RegressionModel.mmd_model import SecondOrderMMDApprox"
   ]
  },
  {
   "cell_type": "markdown",
   "id": "9f24f542",
   "metadata": {
    "pycharm": {
     "name": "#%% md\n"
    }
   },
   "source": [
    "## Set PyTorch device"
   ]
  },
  {
   "cell_type": "code",
   "execution_count": 3,
   "id": "4e96a01e",
   "metadata": {
    "pycharm": {
     "name": "#%%\n"
    }
   },
   "outputs": [
    {
     "name": "stdout",
     "output_type": "stream",
     "text": [
      "Device: cuda\n"
     ]
    }
   ],
   "source": [
    "device = torch.device(\"cuda\" if torch.cuda.is_available() else \"cpu\")\n",
    "print(f'Device: {device}')\n",
    "torch.backends.cudnn.benchmark = True"
   ]
  },
  {
   "cell_type": "markdown",
   "id": "437c85bf",
   "metadata": {
    "pycharm": {
     "name": "#%% md\n"
    }
   },
   "source": [
    "## Generate the Dataset"
   ]
  },
  {
   "cell_type": "code",
   "execution_count": 4,
   "id": "d6616584",
   "metadata": {
    "pycharm": {
     "is_executing": true,
     "name": "#%%\n"
    }
   },
   "outputs": [
    {
     "name": "stdout",
     "output_type": "stream",
     "text": [
      "Computing Initial Distances\n"
     ]
    },
    {
     "data": {
      "application/vnd.jupyter.widget-view+json": {
       "model_id": "9486929f8bd041609343e195d6be0db5",
       "version_major": 2,
       "version_minor": 0
      },
      "text/plain": [
       "  0%|          | 0/20 [00:00<?, ?it/s]"
      ]
     },
     "metadata": {},
     "output_type": "display_data"
    },
    {
     "name": "stdout",
     "output_type": "stream",
     "text": [
      "Finished Computing Initial Distances\n",
      "----------------------------------------------------------------------------------------------------\n",
      "\n",
      "\n",
      "Computing Next Batch of Distances\n"
     ]
    },
    {
     "data": {
      "application/vnd.jupyter.widget-view+json": {
       "model_id": "17147c02a81848faade829fa00ac9e0c",
       "version_major": 2,
       "version_minor": 0
      },
      "text/plain": [
       "  0%|          | 0/980 [00:00<?, ?it/s]"
      ]
     },
     "metadata": {},
     "output_type": "display_data"
    },
    {
     "name": "stdout",
     "output_type": "stream",
     "text": [
      "Finished Computing All Distances\n",
      "----------------------------------------------------------------------------------------------------\n",
      "\n",
      "\n"
     ]
    }
   ],
   "source": [
    "genHestonDataset = GenerateHestonDistanceDataset(20, device, 0.5, 0, 0.5, 0, time_series_index=2)\n",
    "heston_mmd_dataset, heston_path_dataset, heston_sample_path_param_dict = genHestonDataset.generate_mmd_dataset(1000, 14, 300, (1, 1), (0.2, 0.8), (0.2, 1), (0.2, 0.8), (0.2, 0.8), _round=2, order=2, lambda_=1e-5, estimator='ub')"
   ]
  },
  {
   "cell_type": "markdown",
   "id": "05a56f39",
   "metadata": {
    "pycharm": {
     "name": "#%% md\n"
    }
   },
   "source": [
    "## Save Dataset"
   ]
  },
  {
   "cell_type": "code",
   "execution_count": 5,
   "id": "d34695cd",
   "metadata": {
    "pycharm": {
     "name": "#%%\n"
    }
   },
   "outputs": [],
   "source": [
    "torch.save(heston_mmd_dataset, 'Heston/Data/Heston_mmd_dataset_1000_second_order_samples_ub.pt')\n",
    "\n",
    "save_path_params(heston_sample_path_param_dict,\n",
    "                 'Heston/Data/Heston_sample_path_param_dict_1000_second_order_samples_ub.pkl')"
   ]
  },
  {
   "cell_type": "markdown",
   "id": "7cfe40bd",
   "metadata": {
    "pycharm": {
     "name": "#%% md\n"
    }
   },
   "source": [
    "## Load Dataset"
   ]
  },
  {
   "cell_type": "code",
   "execution_count": 5,
   "id": "b965a694",
   "metadata": {
    "pycharm": {
     "name": "#%%\n"
    }
   },
   "outputs": [],
   "source": [
    "heston_mmd_dataset = torch.load('Heston/Data/Heston_mmd_dataset_1000_second_order_samples_ub.pt')\n",
    "\n",
    "heston_sample_path_param_dict = load_path_params(\n",
    "    'Heston/Data/Heston_sample_path_param_dict_1000_second_order_samples_ub.pkl')"
   ]
  },
  {
   "cell_type": "code",
   "execution_count": 7,
   "id": "067ca3ff",
   "metadata": {},
   "outputs": [
    {
     "name": "stdout",
     "output_type": "stream",
     "text": [
      "20000\n"
     ]
    }
   ],
   "source": [
    "M_h = heston_sample_path_param_dict['M']\n",
    "N_h = heston_sample_path_param_dict['N']\n",
    "\n",
    "\n",
    "heston_mmd_features = []\n",
    "heston_mmd_labels = []\n",
    "for i in range(M_h):\n",
    "    for j in range(N_h):        \n",
    "        heston_mmd_features.append([heston_sample_path_param_dict['V0'][i],\n",
    "                                    heston_sample_path_param_dict['V0'][j],\n",
    "                                    heston_sample_path_param_dict['Vol of Vol'][i],\n",
    "                                    heston_sample_path_param_dict['Vol of Vol'][j], \n",
    "                                    heston_sample_path_param_dict['Mean Vol'][i],\n",
    "                                    heston_sample_path_param_dict['Mean Vol'][j],\n",
    "                                    heston_sample_path_param_dict['Speed'][i],\n",
    "                                    heston_sample_path_param_dict['Speed'][j],\n",
    "                                    heston_sample_path_param_dict['Correlation'][i],\n",
    "                                    heston_sample_path_param_dict['Correlation'][j]])\n",
    "        heston_mmd_labels.append(heston_mmd_dataset[i][j])\n",
    "        \n",
    "print(len(heston_mmd_labels))"
   ]
  },
  {
   "cell_type": "markdown",
   "id": "7e85f25f",
   "metadata": {
    "pycharm": {
     "name": "#%% md\n"
    }
   },
   "source": [
    "## Neural Network Approximation"
   ]
  },
  {
   "cell_type": "code",
   "execution_count": 9,
   "id": "35831588",
   "metadata": {
    "pycharm": {
     "name": "#%%\n"
    }
   },
   "outputs": [],
   "source": [
    "M_h = heston_sample_path_param_dict['M']\n",
    "N_h = heston_sample_path_param_dict['N']\n",
    "\n",
    "\n",
    "heston_mmd_features = []\n",
    "heston_mmd_labels = []\n",
    "for i in range(M_h):\n",
    "    for j in range(N_h):        \n",
    "        heston_mmd_features.append([heston_sample_path_param_dict['V0'][i],\n",
    "                                    heston_sample_path_param_dict['V0'][j],\n",
    "                                    heston_sample_path_param_dict['Vol of Vol'][i],\n",
    "                                    heston_sample_path_param_dict['Vol of Vol'][j], \n",
    "                                    heston_sample_path_param_dict['Mean Vol'][i],\n",
    "                                    heston_sample_path_param_dict['Mean Vol'][j],\n",
    "                                    heston_sample_path_param_dict['Speed'][i],\n",
    "                                    heston_sample_path_param_dict['Speed'][j],\n",
    "                                    heston_sample_path_param_dict['Correlation'][i],\n",
    "                                    heston_sample_path_param_dict['Correlation'][j]])\n",
    "        heston_mmd_labels.append(heston_mmd_dataset[i][j])\n",
    "        \n",
    "for i in range(M_h):\n",
    "    for j in range(N_h):        \n",
    "        heston_mmd_features.append([heston_sample_path_param_dict['V0'][j],\n",
    "                                    heston_sample_path_param_dict['V0'][i],\n",
    "                                    heston_sample_path_param_dict['Vol of Vol'][j],\n",
    "                                    heston_sample_path_param_dict['Vol of Vol'][i], \n",
    "                                    heston_sample_path_param_dict['Mean Vol'][j],\n",
    "                                    heston_sample_path_param_dict['Mean Vol'][i],\n",
    "                                    heston_sample_path_param_dict['Speed'][j],\n",
    "                                    heston_sample_path_param_dict['Speed'][i],\n",
    "                                    heston_sample_path_param_dict['Correlation'][j],\n",
    "                                    heston_sample_path_param_dict['Correlation'][i]])\n",
    "        heston_mmd_labels.append(heston_mmd_dataset[i][j])\n",
    "        \n",
    "\n",
    "vol_of_vol_range, speed_range, mean_volatility_range, v0_range = (0.2, 0.8), (0.2, 1), (0.2, 0.8), (0.2, 0.8)\n",
    "for i in range(5000):\n",
    "        vol_of_vol = np.random.uniform(vol_of_vol_range[0], vol_of_vol_range[1])\n",
    "        mean_volatility = np.random.uniform(mean_volatility_range[0], mean_volatility_range[1])\n",
    "        speed = np.random.uniform(speed_range[0], speed_range[1])\n",
    "        v0 = np.random.uniform(v0_range[0], v0_range[1])\n",
    "        corr = np.random.uniform(-1, 1)\n",
    "        heston_mmd_features.append([v0, v0, vol_of_vol, vol_of_vol, mean_volatility, mean_volatility, speed, speed, \n",
    "                                    corr, corr])\n",
    "        heston_mmd_labels.append(torch.tensor(0.0).to(device=device))"
   ]
  },
  {
   "cell_type": "markdown",
   "id": "f4029397",
   "metadata": {
    "pycharm": {
     "name": "#%% md\n"
    }
   },
   "source": [
    "### Define the Model"
   ]
  },
  {
   "cell_type": "markdown",
   "id": "09d8901d",
   "metadata": {
    "pycharm": {
     "name": "#%% md\n"
    }
   },
   "source": [
    "### Training the Model"
   ]
  },
  {
   "cell_type": "code",
   "execution_count": null,
   "id": "6b0a8a68",
   "metadata": {
    "scrolled": true
   },
   "outputs": [],
   "source": [
    "heston_mmd_training_param_dict = {\n",
    "    'lr' : 3e-3,\n",
    "    'Epochs' : 200,\n",
    "    'l2_weight' : 0.0,\n",
    "    'l1_weight' : 0.0,\n",
    "    'Train/Val Split' : 0.8\n",
    "}\n",
    "\n",
    "\n",
    "heston_mmd_dataset_loader_params = {\n",
    "    'batch_size' : 512,\n",
    "    'shuffle' : True,\n",
    "    'num_workers' : 0\n",
    "}\n",
    "\n",
    "heston_mmd_input_dimension = 10\n",
    "\n",
    "heston_mmd_model_param_dict = {\n",
    "    'input_dimension' : heston_mmd_input_dimension,\n",
    "    'intermediate_dimensions' : [50, 50, 50, 50],\n",
    "    'activation_functions' : [nn.ReLU(), nn.ReLU(), nn.ReLU(), nn.ReLU()], \n",
    "    'add_layer_norm' : [False, False, False, False], \n",
    "    'output_dimension' : 1,\n",
    "    'output_activation_fn' : None\n",
    "}\n",
    "\n",
    "for i in range(5):\n",
    "\n",
    "    heston_second_order_mmd_model = SecondOrderMMDApprox(heston_mmd_model_param_dict, heston_mmd_training_param_dict,\n",
    "                                                         heston_mmd_dataset_loader_params, nn.MSELoss(), device,\n",
    "                                                         f'Heston/MMD Model/heston_mmd_scaler_{i+1}.pkl')\n",
    "    \n",
    "    heston_second_order_mmd_model.fit(heston_mmd_features, heston_mmd_labels, \n",
    "                                  **{'filename' : f'Heston/MMD Model/heston_mmd_checkpoint_{i+1}.pth.tar',\n",
    "                                     'best_model_filename' : f'Heston/MMD Model/heston_mmd_model_best_{i+1}.pth.tar'})"
   ]
  },
  {
   "cell_type": "code",
   "execution_count": 8,
   "id": "ce302d55",
   "metadata": {},
   "outputs": [
    {
     "name": "stdout",
     "output_type": "stream",
     "text": [
      "Training Loss\n",
      "0.0021789220793325846\n",
      "5.8756222122694964e-05\n",
      "Validation Loss\n",
      "0.0026066265101572406\n",
      "5.779707934940193e-05\n"
     ]
    }
   ],
   "source": [
    "train_losses = []\n",
    "valid_losses = []\n",
    "for i in range(1, 5):\n",
    "    checkpoint = torch.load(f'Heston/MMD Model/heston_mmd_model_best_{i+1}.pth.tar', map_location='cpu')\n",
    "    valid_losses.append(checkpoint['valid_loss'])\n",
    "    train_losses.append(checkpoint['train_loss'])\n",
    "    \n",
    "print(f'Training Loss')\n",
    "print(np.mean(train_losses))\n",
    "print(np.std(train_losses))\n",
    "print(f'Validation Loss')\n",
    "print(np.mean(valid_losses))\n",
    "print(np.std(valid_losses))"
   ]
  },
  {
   "cell_type": "markdown",
   "id": "72c9eb7a",
   "metadata": {
    "pycharm": {
     "name": "#%% md\n"
    }
   },
   "source": [
    "### Test Model"
   ]
  },
  {
   "cell_type": "code",
   "execution_count": null,
   "id": "6e29fdfd",
   "metadata": {},
   "outputs": [],
   "source": [
    "genHestonTestDataset = GenerateHestonDistanceDataset(20, device, 0.5, 0, 0.5, 0, time_series_index=2)\n",
    "heston_mmd_dataset_test, heston_path_dataset_test, heston_sample_path_param_dict_test = genHestonTestDataset.generate_mmd_dataset(40, 14, 300, (1, 1), (0.2, 0.8), (0.2, 1), (0.2, 0.8), (0.2, 0.8), _round=2, order=2, lambda_=1e-5, estimator='ub')\n",
    "\n",
    "\n",
    "M_h = heston_sample_path_param_dict_test['M']\n",
    "N_h = heston_sample_path_param_dict_test['N']\n",
    "\n",
    "\n",
    "testing_features = []\n",
    "testing_distances = []\n",
    "for i in range(M_h):\n",
    "    for j in range(N_h):        \n",
    "        testing_features.append([heston_sample_path_param_dict_test['V0'][i],\n",
    "                                 heston_sample_path_param_dict_test['V0'][j],\n",
    "                                 heston_sample_path_param_dict_test['Vol of Vol'][i],\n",
    "                                 heston_sample_path_param_dict_test['Vol of Vol'][j], \n",
    "                                 heston_sample_path_param_dict_test['Mean Vol'][i],\n",
    "                                 heston_sample_path_param_dict_test['Mean Vol'][j],\n",
    "                                 heston_sample_path_param_dict_test['Speed'][i],\n",
    "                                 heston_sample_path_param_dict_test['Speed'][j],\n",
    "                                 heston_sample_path_param_dict_test['Correlation'][i],\n",
    "                                 heston_sample_path_param_dict_test['Correlation'][j]])\n",
    "        testing_distances.append(heston_mmd_dataset_test[i][j].cpu())"
   ]
  },
  {
   "cell_type": "code",
   "execution_count": null,
   "id": "4c92ab9c",
   "metadata": {},
   "outputs": [],
   "source": [
    "np.save('Heston/Data/Heston_features_dataset_800_second_order_samples_ub_testing', testing_features)\n",
    "np.save('Heston/Data/Heston_distances_dataset_800_second_order_samples_ub_testing', testing_distances)"
   ]
  },
  {
   "cell_type": "code",
   "execution_count": 18,
   "id": "21f1ec1c",
   "metadata": {},
   "outputs": [],
   "source": [
    "testing_distances = np.load('Heston/Data/Heston_distances_dataset_800_second_order_samples_ub_testing.npy') \n",
    "testing_features = np.load('Heston/Data/Heston_features_dataset_800_second_order_samples_ub_testing.npy')"
   ]
  },
  {
   "cell_type": "code",
   "execution_count": 20,
   "id": "645e3777",
   "metadata": {},
   "outputs": [
    {
     "name": "stdout",
     "output_type": "stream",
     "text": [
      "0.006336030543575317\n",
      "0.0002062245470360287\n"
     ]
    }
   ],
   "source": [
    "heston_mmd_input_dimension = 10\n",
    "\n",
    "\n",
    "heston_mmd_model_param_dict = {\n",
    "    'input_dimension' : heston_mmd_input_dimension,\n",
    "    'intermediate_dimensions' : [50, 50, 50, 50],\n",
    "    'activation_functions' : [nn.ReLU(), nn.ReLU(), nn.ReLU(), nn.ReLU()], \n",
    "    'add_layer_norm' : [False, False, False, False],\n",
    "    'output_dimension' : 1,\n",
    "    'output_activation_fn' : None\n",
    "}\n",
    "\n",
    "test_losses = []\n",
    "\n",
    "\n",
    "for i in range(1, 5):\n",
    "    \n",
    "    heston_second_order_mmd_model = SecondOrderMMDApprox(heston_mmd_model_param_dict,\n",
    "                                                         None,\n",
    "                                                         None, None,\n",
    "                                                         device,\n",
    "                                                         None)\n",
    "    \n",
    "    heston_second_order_mmd_model.load_best_model(f'Heston/MMD Model/heston_mmd_model_best_{i+1}.pth.tar', \n",
    "                                                  f'Heston/MMD Model/heston_mmd_scaler_{i+1}.pkl')\n",
    "    \n",
    "    heston_second_order_mmd_model.model.eval()\n",
    "    with torch.no_grad():\n",
    "        \n",
    "        distances = heston_second_order_mmd_model.transform(torch.tensor(testing_features))\n",
    "        test_losses.append(mean_squared_error(distances.cpu(), testing_distances))\n",
    "        \n",
    "print(np.mean(test_losses))\n",
    "print(np.std(test_losses))"
   ]
  },
  {
   "cell_type": "markdown",
   "id": "58a386f6",
   "metadata": {
    "pycharm": {
     "name": "#%% md\n"
    }
   },
   "source": [
    "## Test to Determine whether $\\mathcal{NN}_{\\mathcal{D}^{2}}^{\\text{Heston}} \\left( \\cdot, \\cdot \\right)$ is a Metric"
   ]
  },
  {
   "cell_type": "code",
   "execution_count": null,
   "id": "9d34c12d",
   "metadata": {},
   "outputs": [],
   "source": [
    "heston_mmd_input_dimension = 10\n",
    "\n",
    "heston_mmd_model_param_dict = {\n",
    "    'input_dimension' : heston_mmd_input_dimension,\n",
    "    'intermediate_dimensions' : [50, 50, 50, 50],\n",
    "    'activation_functions' : [nn.ReLU(), nn.ReLU(), nn.ReLU(), nn.ReLU()], \n",
    "    'add_layer_norm' : [False, False, False, False], \n",
    "    'output_dimension' : 1,\n",
    "    'output_activation_fn' : None\n",
    "}\n",
    "\n",
    "heston_second_order_mmd_model = SecondOrderMMDApprox(heston_mmd_model_param_dict,\n",
    "                                                     None,\n",
    "                                                     None,\n",
    "                                                     None, \n",
    "                                                     device,\n",
    "                                                     None)\n",
    "\n",
    "heston_second_order_mmd_model.load_best_model('Heston/MMD Model/heston_mmd_model_best_1.pth.tar', \n",
    "                                              'Heston/MMD Model/heston_mmd_scaler_1.pkl')"
   ]
  },
  {
   "cell_type": "markdown",
   "id": "b6929444",
   "metadata": {
    "pycharm": {
     "name": "#%% md\n"
    }
   },
   "source": [
    "- #### Identity of Indiscernables: $\\sqrt{\\mathcal{NN}_{2}^{\\text{Heston}} \\left(\\Theta, \\Theta \\right)} = 0$. "
   ]
  },
  {
   "cell_type": "code",
   "execution_count": 30,
   "id": "94aee089",
   "metadata": {
    "pycharm": {
     "name": "#%%\n"
    }
   },
   "outputs": [
    {
     "name": "stdout",
     "output_type": "stream",
     "text": [
      "Number of Samples: 50000\n",
      "Threshold: 0.05\n",
      "Number of Distances Below Threshold: 49731\n"
     ]
    }
   ],
   "source": [
    "mmd_values = []\n",
    "cond_sat = []\n",
    "num_sim = 50000\n",
    "threshold = 0.05\n",
    "\n",
    "vol_of_vol_range = heston_sample_path_param_dict['Vol of Vol Range']\n",
    "mean_volatility_range = heston_sample_path_param_dict['Mean Volatility Range']\n",
    "speed_range = heston_sample_path_param_dict['Speed Range']\n",
    "v0_range = heston_sample_path_param_dict['V0 Range']\n",
    "\n",
    "heston_second_order_mmd_model.model.eval()\n",
    "with torch.no_grad():\n",
    "    for i in range(num_sim):\n",
    "        vol_of_vol = np.random.uniform(vol_of_vol_range[0], vol_of_vol_range[1])\n",
    "        mean_volatility = np.random.uniform(mean_volatility_range[0], mean_volatility_range[1])\n",
    "        speed = np.random.uniform(speed_range[0], speed_range[1])\n",
    "        v0 = np.random.uniform(v0_range[0], v0_range[1])\n",
    "        corr = np.random.uniform(-1, 1)\n",
    "\n",
    "        distance = torch.maximum(\n",
    "            heston_second_order_mmd_model.transform(torch.tensor(\n",
    "                [v0, v0, vol_of_vol, vol_of_vol, mean_volatility, mean_volatility, speed, speed, corr, corr]\n",
    "            ).unsqueeze(0).float()).squeeze(0).squeeze(0), torch.tensor(0.0)).cpu()\n",
    "        \n",
    "        mmd_values.append(distance)\n",
    "        \n",
    "        if distance < threshold:\n",
    "            cond_sat.append(True)\n",
    "        else:\n",
    "            cond_sat.append(False)\n",
    "            \n",
    "counter_dict = Counter(cond_sat)\n",
    "print(f'Number of Samples: {num_sim}')\n",
    "print(f'Threshold: {threshold}')\n",
    "print(f'Number of Distances Below Threshold: {counter_dict[True]}')"
   ]
  },
  {
   "cell_type": "markdown",
   "id": "c6b9f680",
   "metadata": {
    "pycharm": {
     "name": "#%% md\n"
    }
   },
   "source": [
    "- #### Symmetry: $\\sqrt{\\mathcal{NN}_{2}^{\\text{Heston}} \\left(\\Theta_{1}, \\Theta_{2} \\right)} = \\sqrt{\\mathcal{NN}_{2}^{\\text{Heston}} \\left(\\Theta_{2}, \\Theta_{1} \\right)}$. "
   ]
  },
  {
   "cell_type": "code",
   "execution_count": 2,
   "id": "e41ec87d",
   "metadata": {
    "pycharm": {
     "name": "#%%\n"
    }
   },
   "outputs": [
    {
     "name": "stdout",
     "output_type": "stream",
     "text": [
      "Number of Samples: 50000\n",
      "Threshold: 0.1\n",
      "Number of Distances Below Threshold: 49724\n"
     ]
    }
   ],
   "source": [
    "threshold = 0.1\n",
    "num_sim = 50000\n",
    "\n",
    "is_sat = []\n",
    "\n",
    "vol_of_vol_range = heston_sample_path_param_dict['Vol of Vol Range']\n",
    "mean_volatility_range = heston_sample_path_param_dict['Mean Volatility Range']\n",
    "speed_range = heston_sample_path_param_dict['Speed Range']\n",
    "v0_range = heston_sample_path_param_dict['V0 Range']\n",
    "\n",
    "heston_second_order_mmd_model.model.eval()\n",
    "with torch.no_grad():\n",
    "    for i in range(num_sim):\n",
    "        \n",
    "        vol_of_vol_1 = np.random.uniform(vol_of_vol_range[0], vol_of_vol_range[1])\n",
    "        mean_volatility_1 = np.random.uniform(mean_volatility_range[0], mean_volatility_range[1])\n",
    "        speed_1 = np.random.uniform(speed_range[0], speed_range[1])\n",
    "        v0_1 = np.random.uniform(v0_range[0], v0_range[1])\n",
    "        corr_1 = np.random.uniform(-1, 1)\n",
    "        \n",
    "        vol_of_vol_2 = np.random.uniform(vol_of_vol_range[0], vol_of_vol_range[1])\n",
    "        mean_volatility_2 = np.random.uniform(mean_volatility_range[0], mean_volatility_range[1])\n",
    "        speed_2 = np.random.uniform(speed_range[0], speed_range[1])\n",
    "        v0_2 = np.random.uniform(v0_range[0], v0_range[1])\n",
    "        corr_2 = np.random.uniform(-1, 1)\n",
    "\n",
    "        d1 = torch.maximum(\n",
    "            heston_second_order_mmd_model.transform(torch.tensor(\n",
    "                [v0_1, v0_2, vol_of_vol_1, vol_of_vol_2, mean_volatility_1, mean_volatility_2, speed_1, speed_2, corr_1, corr_2]\n",
    "            ).unsqueeze(0).float()).squeeze(0).squeeze(0), torch.tensor(0.0)).cpu()\n",
    "        \n",
    "        d2 = torch.maximum(\n",
    "            heston_second_order_mmd_model.transform(torch.tensor(\n",
    "                [v0_2, v0_1, vol_of_vol_2, vol_of_vol_1, mean_volatility_2, mean_volatility_1, speed_2, speed_1, corr_2, corr_1]\n",
    "            ).unsqueeze(0).float()).squeeze(0).squeeze(0), torch.tensor(0.0)).cpu()\n",
    "                        \n",
    "        if abs(np.sqrt(d1)-np.sqrt(d2)) < threshold:\n",
    "            is_sat.append(True)\n",
    "        else:\n",
    "            is_sat.append(False)\n",
    "            \n",
    "            \n",
    "symm_counter_dict = Counter(is_sat)\n",
    "print(f'Number of Samples: {num_sim}')\n",
    "print(f'Threshold: {threshold}')\n",
    "print(f'Number of Distances Below Threshold: {symm_counter_dict[True]}')"
   ]
  },
  {
   "cell_type": "markdown",
   "id": "821e4a16",
   "metadata": {
    "pycharm": {
     "name": "#%% md\n"
    }
   },
   "source": [
    "- #### Triangle Inequality: $\\sqrt{\\mathcal{NN}_{\\mathcal{D}^{2}}^{\\text{MGBM}} \\left(\\Theta_{1}, \\Theta_{3} \\right)} \\leq \\sqrt{\\mathcal{NN}_{\\mathcal{D}^{2}}^{\\text{MGBM}} \\left(\\Theta_{1}, \\Theta_{2} \\right)} + \\sqrt{\\mathcal{NN}_{\\mathcal{D}^{2}}^{\\text{MGBM}} \\left(\\Theta_{2}, \\Theta_{3} \\right)}$. "
   ]
  },
  {
   "cell_type": "code",
   "execution_count": 1,
   "id": "9a5ff7e9",
   "metadata": {
    "pycharm": {
     "name": "#%%\n"
    }
   },
   "outputs": [
    {
     "name": "stdout",
     "output_type": "stream",
     "text": [
      "Number of Samples: 50000\n",
      "Number of Samples Satisfying the Triangle Inequality: 50000\n"
     ]
    }
   ],
   "source": [
    "triag_inq_sat = []\n",
    "num_sim = 50000\n",
    "\n",
    "vol_of_vol_range = heston_sample_path_param_dict['Vol of Vol Range']\n",
    "mean_volatility_range = heston_sample_path_param_dict['Mean Volatility Range']\n",
    "speed_range = heston_sample_path_param_dict['Speed Range']\n",
    "v0_range = heston_sample_path_param_dict['V0 Range']\n",
    "\n",
    "heston_second_order_mmd_model.model.eval()\n",
    "with torch.no_grad():\n",
    "    for i in range(num_sim):\n",
    "        \n",
    "        vol_of_vol_1 = np.random.uniform(vol_of_vol_range[0], vol_of_vol_range[1])\n",
    "        mean_volatility_1 = np.random.uniform(mean_volatility_range[0], mean_volatility_range[1])\n",
    "        speed_1 = np.random.uniform(speed_range[0], speed_range[1])\n",
    "        v0_1 = np.random.uniform(v0_range[0], v0_range[1])\n",
    "        corr_1 = np.random.uniform(-1, 1)\n",
    "        \n",
    "        vol_of_vol_2 = np.random.uniform(vol_of_vol_range[0], vol_of_vol_range[1])\n",
    "        mean_volatility_2 = np.random.uniform(mean_volatility_range[0], mean_volatility_range[1])\n",
    "        speed_2 = np.random.uniform(speed_range[0], speed_range[1])\n",
    "        v0_2 = np.random.uniform(v0_range[0], v0_range[1])\n",
    "        corr_2 = np.random.uniform(-1, 1)\n",
    "        \n",
    "        vol_of_vol_3 = np.random.uniform(vol_of_vol_range[0], vol_of_vol_range[1])\n",
    "        mean_volatility_3 = np.random.uniform(mean_volatility_range[0], mean_volatility_range[1])\n",
    "        speed_3 = np.random.uniform(speed_range[0], speed_range[1])\n",
    "        v0_3 = np.random.uniform(v0_range[0], v0_range[1])\n",
    "        corr_3 = np.random.uniform(-1, 1)\n",
    "\n",
    "        d1 = torch.maximum(\n",
    "            heston_second_order_mmd_model.transform(torch.tensor(\n",
    "                [v0_1, v0_3, vol_of_vol_1, vol_of_vol_3, mean_volatility_1, mean_volatility_3, speed_1, speed_3, corr_1, corr_3]\n",
    "            ).unsqueeze(0).float()).squeeze(0).squeeze(0), torch.tensor(0.0)).cpu()\n",
    "        \n",
    "        d2 = torch.maximum(\n",
    "            heston_second_order_mmd_model.transform(torch.tensor(\n",
    "                [v0_1, v0_2, vol_of_vol_1, vol_of_vol_2, mean_volatility_1, mean_volatility_2, speed_1, speed_2, corr_1, corr_2]\n",
    "            ).unsqueeze(0).float()).squeeze(0).squeeze(0), torch.tensor(0.0)).cpu()\n",
    "        \n",
    "        d3 = torch.maximum(\n",
    "            heston_second_order_mmd_model.transform(torch.tensor(\n",
    "                [v0_2, v0_3, vol_of_vol_2, vol_of_vol_3, mean_volatility_2, mean_volatility_3, speed_2, speed_3, corr_2, corr_3]\n",
    "            ).unsqueeze(0).float()).squeeze(0).squeeze(0), torch.tensor(0.0)).cpu()\n",
    "               \n",
    "        if np.sqrt(d1) <= (np.sqrt(d2)+np.sqrt(d3)):\n",
    "            triag_inq_sat.append(True)\n",
    "        else:\n",
    "            triag_inq_sat.append(False)\n",
    "            \n",
    "triag_inq_counter_dict = Counter(triag_inq_sat)\n",
    "print(f'Number of Samples: {num_sim}')\n",
    "print(f'Number of Samples Satisfying the Triangle Inequality: {triag_inq_counter_dict[True]}')\n",
    "print(f'Number of Samples: 50000')\n",
    "print(f'Number of Samples Satisfying the Triangle Inequality: 50000')"
   ]
  },
  {
   "cell_type": "code",
   "execution_count": null,
   "id": "24c290e2",
   "metadata": {
    "pycharm": {
     "name": "#%%\n"
    }
   },
   "outputs": [],
   "source": []
  }
 ],
 "metadata": {
  "kernelspec": {
   "display_name": "Python 3 (ipykernel)",
   "language": "python",
   "name": "python3"
  },
  "language_info": {
   "codemirror_mode": {
    "name": "ipython",
    "version": 3
   },
   "file_extension": ".py",
   "mimetype": "text/x-python",
   "name": "python",
   "nbconvert_exporter": "python",
   "pygments_lexer": "ipython3",
   "version": "3.8.3"
  }
 },
 "nbformat": 4,
 "nbformat_minor": 5
}
